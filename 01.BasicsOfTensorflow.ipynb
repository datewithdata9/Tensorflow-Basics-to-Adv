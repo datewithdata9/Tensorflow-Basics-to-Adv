{
 "cells": [
  {
   "cell_type": "markdown",
   "metadata": {},
   "source": [
    "#### Introduction To Tensors"
   ]
  },
  {
   "cell_type": "code",
   "execution_count": 1,
   "metadata": {},
   "outputs": [
    {
     "name": "stdout",
     "output_type": "stream",
     "text": [
      "2.18.0\n"
     ]
    }
   ],
   "source": [
    "import tensorflow as tf\n",
    "print(tf.__version__)"
   ]
  },
  {
   "cell_type": "code",
   "execution_count": 2,
   "metadata": {},
   "outputs": [
    {
     "name": "stdout",
     "output_type": "stream",
     "text": [
      "tf.Tensor(7, shape=(), dtype=int32)\n",
      "0\n",
      "()\n",
      "<dtype: 'int32'>\n"
     ]
    }
   ],
   "source": [
    "# Create Tensors\n",
    "scaler = tf.constant(7)\n",
    "print(scaler)\n",
    "print(scaler.ndim)\n",
    "print(scaler.shape)\n",
    "print(scaler.dtype)"
   ]
  },
  {
   "cell_type": "code",
   "execution_count": 3,
   "metadata": {},
   "outputs": [
    {
     "name": "stdout",
     "output_type": "stream",
     "text": [
      "tf.Tensor([1. 2. 3.], shape=(3,), dtype=float16)\n",
      "1\n",
      "(3,)\n",
      "<dtype: 'float16'>\n"
     ]
    }
   ],
   "source": [
    "# Create Tensors\n",
    "scaler = tf.constant([1,2,3],dtype=tf.float16)\n",
    "print(scaler)\n",
    "print(scaler.ndim)\n",
    "print(scaler.shape)\n",
    "print(scaler.dtype)"
   ]
  },
  {
   "cell_type": "code",
   "execution_count": 4,
   "metadata": {},
   "outputs": [
    {
     "name": "stdout",
     "output_type": "stream",
     "text": [
      "<tf.Variable 'Variable:0' shape=(2,) dtype=int32, numpy=array([10,  7], dtype=int32)>\n",
      "(2,)\n",
      "<dtype: 'int32'>\n",
      "<tf.Variable 'Variable:0' shape=(2,) dtype=int32, numpy=array([20,  7], dtype=int32)>\n"
     ]
    }
   ],
   "source": [
    "# Create Tensor with tf.Variable \n",
    "changeable_tensor = tf.Variable([10,7])\n",
    "print(changeable_tensor)\n",
    "# print(changeable_tensor.ndim)  # ERROR\n",
    "print(changeable_tensor.shape)\n",
    "print(changeable_tensor.dtype)\n",
    "\n",
    "changeable_tensor[0].assign(20)\n",
    "print(changeable_tensor)"
   ]
  },
  {
   "cell_type": "code",
   "execution_count": 5,
   "metadata": {},
   "outputs": [
    {
     "name": "stdout",
     "output_type": "stream",
     "text": [
      "tf.Tensor([[0.7493447  0.73561966]], shape=(1, 2), dtype=float32)\n",
      "tf.Tensor([[ 0.9029392  -0.12441138]], shape=(1, 2), dtype=float32)\n"
     ]
    }
   ],
   "source": [
    "# Create Random Tensor\n",
    "gen = tf.random.Generator.from_seed(42)\n",
    "random_1 = gen.uniform(shape=(1,2))\n",
    "print(random_1)\n",
    "\n",
    "random_2 = gen.normal(shape=(1,2))\n",
    "print(random_2)"
   ]
  },
  {
   "cell_type": "code",
   "execution_count": 6,
   "metadata": {},
   "outputs": [
    {
     "data": {
      "text/plain": [
       "<tf.Tensor: shape=(6,), dtype=float16, numpy=array([1., 6., 5., 3., 4., 2.], dtype=float16)>"
      ]
     },
     "execution_count": 6,
     "metadata": {},
     "output_type": "execute_result"
    }
   ],
   "source": [
    "# Shuffle Tensor\n",
    "scaler = tf.constant([1,2,3,4,5,6],dtype=tf.float16)\n",
    "tf.random.set_seed(42)\n",
    "tf.random.shuffle(scaler,seed=2)"
   ]
  },
  {
   "cell_type": "code",
   "execution_count": 7,
   "metadata": {},
   "outputs": [
    {
     "name": "stdout",
     "output_type": "stream",
     "text": [
      "tf.Tensor(\n",
      "[[1. 1.]\n",
      " [1. 1.]], shape=(2, 2), dtype=float32)\n",
      "------------------------------\n",
      "tf.Tensor(\n",
      "[[0. 0.]\n",
      " [0. 0.]], shape=(2, 2), dtype=float32)\n",
      "------------------------------\n"
     ]
    }
   ],
   "source": [
    "# Other Ways to Make Tensor\n",
    "print(tf.ones([2,2]))\n",
    "\n",
    "print(\"---\"*10)\n",
    "\n",
    "print(tf.zeros([2,2]))\n",
    "\n",
    "print(\"---\"*10)"
   ]
  },
  {
   "cell_type": "markdown",
   "metadata": {},
   "source": [
    "#### Tensor Information\n",
    "When dealing with tensors you must be familier with following attributes\n",
    "- Shape\n",
    "- Size\n",
    "- Rank\n",
    "- Axis or dimension\n",
    "- Size\n",
    "- Indexing"
   ]
  },
  {
   "cell_type": "code",
   "execution_count": 8,
   "metadata": {},
   "outputs": [
    {
     "name": "stdout",
     "output_type": "stream",
     "text": [
      "(2, 3)\n",
      "tf.Tensor(6, shape=(), dtype=int32)\n",
      "2\n",
      "2\n",
      "<dtype: 'float16'>\n",
      "tf.Tensor(\n",
      "[[1. 2.]\n",
      " [4. 5.]], shape=(2, 2), dtype=float16)\n"
     ]
    }
   ],
   "source": [
    "scaler = tf.constant([[1,2,3],[4,5,6]],dtype=tf.float16)\n",
    "\n",
    "print(scaler.shape)\n",
    "print(tf.size(scaler))\n",
    "print(scaler.ndim)\n",
    "print(scaler._rank())\n",
    "print(scaler.dtype)\n",
    "print(scaler[:,:2])"
   ]
  },
  {
   "cell_type": "code",
   "execution_count": 9,
   "metadata": {},
   "outputs": [
    {
     "data": {
      "text/plain": [
       "<tf.Tensor: shape=(2, 3, 1), dtype=float16, numpy=\n",
       "array([[[1.],\n",
       "        [2.],\n",
       "        [3.]],\n",
       "\n",
       "       [[4.],\n",
       "        [5.],\n",
       "        [6.]]], dtype=float16)>"
      ]
     },
     "execution_count": 9,
     "metadata": {},
     "output_type": "execute_result"
    }
   ],
   "source": [
    "scaler[...,tf.newaxis]"
   ]
  },
  {
   "cell_type": "code",
   "execution_count": 10,
   "metadata": {},
   "outputs": [
    {
     "data": {
      "text/plain": [
       "<tf.Tensor: shape=(2, 3, 1), dtype=float16, numpy=\n",
       "array([[[1.],\n",
       "        [2.],\n",
       "        [3.]],\n",
       "\n",
       "       [[4.],\n",
       "        [5.],\n",
       "        [6.]]], dtype=float16)>"
      ]
     },
     "execution_count": 10,
     "metadata": {},
     "output_type": "execute_result"
    }
   ],
   "source": [
    "tf.expand_dims(scaler,axis=2)"
   ]
  },
  {
   "cell_type": "code",
   "execution_count": 11,
   "metadata": {},
   "outputs": [
    {
     "name": "stdout",
     "output_type": "stream",
     "text": [
      "tf.Tensor(\n",
      "[[1. 2. 3.]\n",
      " [4. 5. 6.]], shape=(2, 3), dtype=float16)\n",
      "------------------------------\n",
      "tf.Tensor(\n",
      "[[10. 20. 30.]\n",
      " [40. 50. 60.]], shape=(2, 3), dtype=float16)\n",
      "------------------------------\n",
      "tf.Tensor(\n",
      "[[11. 12. 13.]\n",
      " [14. 15. 16.]], shape=(2, 3), dtype=float16)\n",
      "------------------------------\n",
      "tf.Tensor(\n",
      "[[-9. -8. -7.]\n",
      " [-6. -5. -4.]], shape=(2, 3), dtype=float16)\n"
     ]
    }
   ],
   "source": [
    "# Some Operations\n",
    "print(scaler)\n",
    "\n",
    "print(\"---\"*10)\n",
    "\n",
    "print(tf.multiply(scaler,10))\n",
    "\n",
    "print(\"---\"*10)\n",
    "\n",
    "print(tf.add(scaler,10))\n",
    "\n",
    "print(\"---\"*10)\n",
    "\n",
    "print(tf.subtract(scaler,10))"
   ]
  },
  {
   "cell_type": "markdown",
   "metadata": {},
   "source": [
    "#### Tensor Multiplication\n",
    "\n",
    "Tensor Multiplication is also referred as dot-product.\n",
    "\n",
    "- tf.matmul()\n",
    "- tf.tensordot()"
   ]
  },
  {
   "cell_type": "code",
   "execution_count": 12,
   "metadata": {},
   "outputs": [
    {
     "data": {
      "text/plain": [
       "<tf.Tensor: shape=(2, 3), dtype=int32, numpy=\n",
       "array([[20, 20, 43],\n",
       "       [26, 23, 58]], dtype=int32)>"
      ]
     },
     "execution_count": 12,
     "metadata": {},
     "output_type": "execute_result"
    }
   ],
   "source": [
    "mat1 = tf.constant([[2,5,3],[2,8,3]])\n",
    "mat2 = tf.constant([[2,3,3],[2,1,5],[2,3,4]])\n",
    "\n",
    "tf.matmul(mat1,mat2)"
   ]
  },
  {
   "cell_type": "code",
   "execution_count": 13,
   "metadata": {},
   "outputs": [
    {
     "data": {
      "text/plain": [
       "<tf.Tensor: shape=(2, 3), dtype=int32, numpy=\n",
       "array([[20, 20, 43],\n",
       "       [26, 23, 58]], dtype=int32)>"
      ]
     },
     "execution_count": 13,
     "metadata": {},
     "output_type": "execute_result"
    }
   ],
   "source": [
    "tf.tensordot(mat1,mat2,axes=1)"
   ]
  },
  {
   "cell_type": "code",
   "execution_count": 14,
   "metadata": {},
   "outputs": [
    {
     "data": {
      "text/plain": [
       "<tf.Tensor: shape=(3, 2), dtype=int32, numpy=\n",
       "array([[2, 2],\n",
       "       [5, 8],\n",
       "       [3, 3]], dtype=int32)>"
      ]
     },
     "execution_count": 14,
     "metadata": {},
     "output_type": "execute_result"
    }
   ],
   "source": [
    "tf.transpose(mat1)"
   ]
  },
  {
   "cell_type": "code",
   "execution_count": 15,
   "metadata": {},
   "outputs": [
    {
     "data": {
      "text/plain": [
       "<tf.Tensor: shape=(3, 2), dtype=int32, numpy=\n",
       "array([[2, 5],\n",
       "       [3, 2],\n",
       "       [8, 3]], dtype=int32)>"
      ]
     },
     "execution_count": 15,
     "metadata": {},
     "output_type": "execute_result"
    }
   ],
   "source": [
    "tf.reshape(mat1,(3,-1))"
   ]
  },
  {
   "cell_type": "markdown",
   "metadata": {},
   "source": [
    "#### Change Data Type"
   ]
  },
  {
   "cell_type": "code",
   "execution_count": 16,
   "metadata": {},
   "outputs": [
    {
     "data": {
      "text/plain": [
       "<tf.Tensor: shape=(2, 3), dtype=float32, numpy=\n",
       "array([[2., 5., 3.],\n",
       "       [2., 8., 3.]], dtype=float32)>"
      ]
     },
     "execution_count": 16,
     "metadata": {},
     "output_type": "execute_result"
    }
   ],
   "source": [
    "mat1 = tf.constant([[2,5,3],[2,8,3]],dtype='int32')\n",
    "\n",
    "tf.cast(mat1,dtype='float32')"
   ]
  },
  {
   "cell_type": "markdown",
   "metadata": {},
   "source": [
    "#### Tensor Aggregation\n",
    "\n",
    "It means condensing from multiple values down to smaller amount of values."
   ]
  },
  {
   "cell_type": "code",
   "execution_count": 32,
   "metadata": {},
   "outputs": [
    {
     "name": "stdout",
     "output_type": "stream",
     "text": [
      "tf.Tensor(\n",
      "[[ 2  5  3]\n",
      " [ 2 18  3]], shape=(2, 3), dtype=int32)\n",
      "----------------------------------------\n",
      "tf.Tensor(-18, shape=(), dtype=int32)\n",
      "----------------------------------------\n",
      "tf.Tensor(3, shape=(), dtype=int32)\n",
      "----------------------------------------\n",
      "tf.Tensor([ 0 -4], shape=(2,), dtype=int32)\n"
     ]
    }
   ],
   "source": [
    "mat1 = tf.constant([[2,-5,3],[2,-18,3]],dtype='int32')\n",
    "\n",
    "#Absolute Value\n",
    "print(tf.abs(mat1))\n",
    "\n",
    "print(\"--\"*20)\n",
    "#Minimum\n",
    "print(tf.reduce_min(mat1))\n",
    "\n",
    "print(\"--\"*20)\n",
    "#Maximum\n",
    "print(tf.reduce_max(mat1))\n",
    "\n",
    "print(\"--\"*20)\n",
    "#Mean\n",
    "print(tf.reduce_mean(mat1,axis=1))"
   ]
  },
  {
   "cell_type": "code",
   "execution_count": 36,
   "metadata": {},
   "outputs": [
    {
     "name": "stdout",
     "output_type": "stream",
     "text": [
      "tf.Tensor([3 3], shape=(2,), dtype=int32)\n",
      "tf.Tensor([ -5 -18], shape=(2,), dtype=int32)\n",
      "tf.Tensor([2 2], shape=(2,), dtype=int64)\n",
      "tf.Tensor([1 1], shape=(2,), dtype=int64)\n"
     ]
    }
   ],
   "source": [
    "# Positional Max and Minimum\n",
    "print(tf.math.reduce_max(mat1,axis=1))\n",
    "print(tf.math.reduce_min(mat1,axis=1))\n",
    "print(tf.math.argmax(mat1,axis=1))\n",
    "print(tf.math.argmin(mat1,axis=1))"
   ]
  },
  {
   "cell_type": "markdown",
   "metadata": {},
   "source": [
    "#### Squeezing the Tensor"
   ]
  },
  {
   "cell_type": "code",
   "execution_count": 39,
   "metadata": {},
   "outputs": [
    {
     "name": "stdout",
     "output_type": "stream",
     "text": [
      "tf.Tensor(\n",
      "[[[[[  2  -5   3]\n",
      "    [  2 -18   3]]]]], shape=(1, 1, 1, 2, 3), dtype=int32)\n",
      "(1, 1, 1, 2, 3)\n",
      "--------\n",
      "tf.Tensor(\n",
      "[[  2  -5   3]\n",
      " [  2 -18   3]], shape=(2, 3), dtype=int32)\n"
     ]
    }
   ],
   "source": [
    "mat1 = tf.constant([[2,-5,3],[2,-18,3]],dtype='int32',shape=(1,1,1,2,3))\n",
    "print(mat1)\n",
    "print(mat1.shape)\n",
    "\n",
    "print(\"--------\")\n",
    "\n",
    "print(tf.squeeze(mat1))"
   ]
  },
  {
   "cell_type": "markdown",
   "metadata": {},
   "source": [
    "#### One Hot Encode Tensor"
   ]
  },
  {
   "cell_type": "code",
   "execution_count": 50,
   "metadata": {},
   "outputs": [
    {
     "data": {
      "text/plain": [
       "<tf.Tensor: shape=(4, 2), dtype=float32, numpy=\n",
       "array([[0., 1.],\n",
       "       [0., 0.],\n",
       "       [0., 0.],\n",
       "       [0., 0.]], dtype=float32)>"
      ]
     },
     "execution_count": 50,
     "metadata": {},
     "output_type": "execute_result"
    }
   ],
   "source": [
    "mat1  = tf.constant([1,2,3,4])\n",
    "\n",
    "tf.one_hot(mat1,depth=2)"
   ]
  },
  {
   "cell_type": "code",
   "execution_count": 54,
   "metadata": {},
   "outputs": [
    {
     "name": "stdout",
     "output_type": "stream",
     "text": [
      "tf.Tensor([ 1  4  9 16], shape=(4,), dtype=int32)\n",
      "tf.Tensor([1.    1.414 1.732 2.   ], shape=(4,), dtype=float16)\n",
      "tf.Tensor([0.     0.6934 1.099  1.387 ], shape=(4,), dtype=float16)\n"
     ]
    }
   ],
   "source": [
    "print(tf.square(mat1))\n",
    "print(tf.sqrt(tf.cast(mat1,dtype='float16')))\n",
    "print(tf.math.log(tf.cast(mat1,dtype='float16')))"
   ]
  },
  {
   "cell_type": "code",
   "execution_count": 55,
   "metadata": {},
   "outputs": [
    {
     "name": "stdout",
     "output_type": "stream",
     "text": [
      "[1 2 3 4]\n"
     ]
    }
   ],
   "source": [
    "print(mat1.numpy())"
   ]
  },
  {
   "cell_type": "markdown",
   "metadata": {},
   "source": [
    "## FInd Access to GPUs"
   ]
  },
  {
   "cell_type": "code",
   "execution_count": 60,
   "metadata": {},
   "outputs": [
    {
     "data": {
      "text/plain": [
       "[PhysicalDevice(name='/physical_device:CPU:0', device_type='CPU')]"
      ]
     },
     "execution_count": 60,
     "metadata": {},
     "output_type": "execute_result"
    }
   ],
   "source": [
    "tf.config.list_physical_devices()"
   ]
  }
 ],
 "metadata": {
  "kernelspec": {
   "display_name": "tensorflow",
   "language": "python",
   "name": "python3"
  },
  "language_info": {
   "codemirror_mode": {
    "name": "ipython",
    "version": 3
   },
   "file_extension": ".py",
   "mimetype": "text/x-python",
   "name": "python",
   "nbconvert_exporter": "python",
   "pygments_lexer": "ipython3",
   "version": "3.10.16"
  }
 },
 "nbformat": 4,
 "nbformat_minor": 2
}
