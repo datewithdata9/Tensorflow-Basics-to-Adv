{
 "cells": [
  {
   "cell_type": "code",
   "execution_count": 3,
   "metadata": {
    "id": "s8eWaR7m4XFz"
   },
   "outputs": [],
   "source": [
    "import tensorflow as tf\n",
    "import numpy as np"
   ]
  },
  {
   "cell_type": "code",
   "execution_count": 92,
   "metadata": {
    "colab": {
     "base_uri": "https://localhost:8080/"
    },
    "id": "mg9Lcf7XjI12",
    "outputId": "32f3335b-1b73-4ae7-8444-9c62e5c93182"
   },
   "outputs": [
    {
     "name": "stdout",
     "output_type": "stream",
     "text": [
      "tf.Tensor([4 3 1], shape=(3,), dtype=int32)\n",
      "tf.Tensor([4 3 2], shape=(3,), dtype=int32)\n",
      "tf.Tensor([1 1 1], shape=(3,), dtype=int32)\n",
      "tf.Tensor([1 3 3], shape=(3,), dtype=int32)\n"
     ]
    }
   ],
   "source": [
    "tf.random.set_seed(5)\n",
    "print(tf.random.uniform(shape=[3,], maxval=5, dtype=tf.int32, seed=10))\n",
    "print(tf.random.uniform(shape=[3,], maxval=5, dtype=tf.int32, seed=10))\n",
    "print(tf.random.uniform(shape=[3,], maxval=5, dtype=tf.int32, seed=10))\n",
    "print(tf.random.uniform(shape=[3,], maxval=5, dtype=tf.int32, seed=10))"
   ]
  },
  {
   "cell_type": "code",
   "execution_count": 93,
   "metadata": {
    "colab": {
     "base_uri": "https://localhost:8080/"
    },
    "id": "s5Iql2JxkGd8",
    "outputId": "146fd018-b264-4361-a523-6872950a90f2"
   },
   "outputs": [
    {
     "name": "stdout",
     "output_type": "stream",
     "text": [
      "tf.Tensor([4 3 1], shape=(3,), dtype=int32)\n",
      "tf.Tensor([4 3 2], shape=(3,), dtype=int32)\n",
      "tf.Tensor([1 1 1], shape=(3,), dtype=int32)\n",
      "tf.Tensor([1 3 3], shape=(3,), dtype=int32)\n"
     ]
    }
   ],
   "source": [
    "tf.random.set_seed(5)\n",
    "print(tf.random.uniform(shape=[3,], maxval=5, dtype=tf.int32, seed=10))\n",
    "print(tf.random.uniform(shape=[3,], maxval=5, dtype=tf.int32, seed=10))\n",
    "print(tf.random.uniform(shape=[3,], maxval=5, dtype=tf.int32, seed=10))\n",
    "print(tf.random.uniform(shape=[3,], maxval=5, dtype=tf.int32, seed=10))"
   ]
  },
  {
   "cell_type": "code",
   "execution_count": 94,
   "metadata": {
    "colab": {
     "base_uri": "https://localhost:8080/"
    },
    "id": "H1LP5m-J4Xls",
    "outputId": "6b53c9e2-6d95-4493-e9b8-b2a4a43ef8ad"
   },
   "outputs": [
    {
     "name": "stdout",
     "output_type": "stream",
     "text": [
      "tf.Tensor(4, shape=(), dtype=int32)\n"
     ]
    }
   ],
   "source": [
    "tensor_zero_d = tf.constant(4)\n",
    "print(tensor_zero_d)"
   ]
  },
  {
   "cell_type": "code",
   "execution_count": 95,
   "metadata": {
    "colab": {
     "base_uri": "https://localhost:8080/"
    },
    "id": "ptbQqIrozkMa",
    "outputId": "b6a56137-b54f-4e52-cc4e-78dba3deb8aa"
   },
   "outputs": [
    {
     "name": "stdout",
     "output_type": "stream",
     "text": [
      "tf.Tensor([ True  True False], shape=(3,), dtype=bool)\n"
     ]
    }
   ],
   "source": [
    "tensor_bool = tf.constant([True,True,False])\n",
    "print(tensor_bool)"
   ]
  },
  {
   "cell_type": "code",
   "execution_count": 96,
   "metadata": {
    "colab": {
     "base_uri": "https://localhost:8080/"
    },
    "id": "zNIUJIR5zuiy",
    "outputId": "7def7261-cea6-4f0d-c6cd-7b93f98ed35f"
   },
   "outputs": [
    {
     "name": "stdout",
     "output_type": "stream",
     "text": [
      "tf.Tensor([b'hello world' b'hi '], shape=(2,), dtype=string)\n"
     ]
    }
   ],
   "source": [
    "tensor_string = tf.constant([\"hello world\",\"hi \"])\n",
    "print(tensor_string)"
   ]
  },
  {
   "cell_type": "code",
   "execution_count": 97,
   "metadata": {
    "colab": {
     "base_uri": "https://localhost:8080/"
    },
    "id": "Dl97XXSX4XoS",
    "outputId": "8ff32f54-d7c7-4038-a459-940191ee24c9"
   },
   "outputs": [
    {
     "name": "stdout",
     "output_type": "stream",
     "text": [
      "tf.Tensor([ 2.  0. -3.  8. 90.], shape=(5,), dtype=float32)\n",
      "tf.Tensor([ True False  True  True  True], shape=(5,), dtype=bool)\n"
     ]
    }
   ],
   "source": [
    "tensor_one_d = tf.constant([2,0.,-3,8,90],dtype=tf.float32)\n",
    "casted_tensor_one_d = tf.cast(tensor_one_d,dtype=tf.bool)\n",
    "print(tensor_one_d)\n",
    "print(casted_tensor_one_d)"
   ]
  },
  {
   "cell_type": "code",
   "execution_count": 98,
   "metadata": {
    "colab": {
     "base_uri": "https://localhost:8080/"
    },
    "id": "m4Ra5DJ24Xqz",
    "outputId": "5bb74faf-e147-4f58-ec1d-31246b456a1f"
   },
   "outputs": [
    {
     "name": "stdout",
     "output_type": "stream",
     "text": [
      "tf.Tensor(\n",
      "[[ 1  2  0]\n",
      " [ 3  5 -1]\n",
      " [ 1  5  6]\n",
      " [ 2  3  8]], shape=(4, 3), dtype=int32)\n"
     ]
    }
   ],
   "source": [
    "tensor_two_d = tf.constant([\n",
    "    [1,2,0],\n",
    "    [3,5,-1],\n",
    "    [1,5,6],\n",
    "    [2,3,8]\n",
    "])\n",
    "print(tensor_two_d)"
   ]
  },
  {
   "cell_type": "code",
   "execution_count": 99,
   "metadata": {
    "colab": {
     "base_uri": "https://localhost:8080/"
    },
    "id": "BCQwZv1O4Xt1",
    "outputId": "36693d9d-b303-4813-ba90-26fc5abebb30"
   },
   "outputs": [
    {
     "name": "stdout",
     "output_type": "stream",
     "text": [
      "tf.Tensor(\n",
      "[[[ 1  2  0]\n",
      "  [ 3  5 -1]]\n",
      "\n",
      " [[10  2  0]\n",
      "  [ 1  0  2]]\n",
      "\n",
      " [[ 5  8  0]\n",
      "  [ 2  7  0]]\n",
      "\n",
      " [[ 2  1  9]\n",
      "  [ 4 -3 32]]], shape=(4, 2, 3), dtype=int32)\n"
     ]
    }
   ],
   "source": [
    "tensor_three_d = tf.constant([\n",
    "    [[1,2,0],\n",
    "    [3,5,-1]],\n",
    "\n",
    "    [[10,2,0],\n",
    "    [1,0,2]],\n",
    "\n",
    "    [[5,8,0],\n",
    "    [2,7,0]],\n",
    "\n",
    "    [[2,1,9],\n",
    "    [4,-3,32]],\n",
    "\n",
    "])\n",
    "print(tensor_three_d)"
   ]
  },
  {
   "cell_type": "code",
   "execution_count": 100,
   "metadata": {
    "colab": {
     "base_uri": "https://localhost:8080/"
    },
    "id": "HTkCD89iesbL",
    "outputId": "5301341d-217d-4242-b993-60c0888d7179"
   },
   "outputs": [
    {
     "name": "stdout",
     "output_type": "stream",
     "text": [
      "3\n"
     ]
    }
   ],
   "source": [
    "print(tensor_three_d.ndim)"
   ]
  },
  {
   "cell_type": "code",
   "execution_count": 101,
   "metadata": {
    "colab": {
     "base_uri": "https://localhost:8080/"
    },
    "id": "SG27BtaxkEBQ",
    "outputId": "292fff8e-7a70-4d31-82da-f511b8affb2c"
   },
   "outputs": [
    {
     "name": "stdout",
     "output_type": "stream",
     "text": [
      "(4, 2, 3)\n"
     ]
    }
   ],
   "source": [
    "print(tensor_three_d.shape)"
   ]
  },
  {
   "cell_type": "code",
   "execution_count": 102,
   "metadata": {
    "colab": {
     "base_uri": "https://localhost:8080/"
    },
    "id": "zpt8qH1pS3Wv",
    "outputId": "d084b4a4-dfe3-4fc6-b41b-b8a2651e1dd8"
   },
   "outputs": [
    {
     "data": {
      "text/plain": [
       "<tf.Tensor: shape=(), dtype=float32, numpy=6.0>"
      ]
     },
     "execution_count": 102,
     "metadata": {},
     "output_type": "execute_result"
    }
   ],
   "source": [
    "t = tf.constant([[1, 1, 1], [2, 2, 2]],)\n",
    "tf.size(t,out_type=tf.float32)"
   ]
  },
  {
   "cell_type": "code",
   "execution_count": 103,
   "metadata": {
    "colab": {
     "base_uri": "https://localhost:8080/"
    },
    "id": "c2byED-ESZgu",
    "outputId": "5c97d37e-a768-4282-8c5b-6ea68463c662"
   },
   "outputs": [
    {
     "data": {
      "text/plain": [
       "<tf.Tensor: shape=(), dtype=int32, numpy=2>"
      ]
     },
     "execution_count": 103,
     "metadata": {},
     "output_type": "execute_result"
    }
   ],
   "source": [
    "# shape of tensor 't' is [2, 2, 3]\n",
    "t = tf.constant([[1, 1, 1], [2, 2, 2]])\n",
    "tf.rank(t)  # 3"
   ]
  },
  {
   "cell_type": "code",
   "execution_count": 104,
   "metadata": {
    "colab": {
     "base_uri": "https://localhost:8080/"
    },
    "id": "DYmQ8-t7kED1",
    "outputId": "c7184d40-497e-4f86-9147-2b385584c550"
   },
   "outputs": [
    {
     "name": "stdout",
     "output_type": "stream",
     "text": [
      "tf.Tensor([4 2 3], shape=(3,), dtype=int32)\n"
     ]
    }
   ],
   "source": [
    "print(tf.shape(tensor_three_d))"
   ]
  },
  {
   "cell_type": "code",
   "execution_count": 105,
   "metadata": {
    "colab": {
     "base_uri": "https://localhost:8080/"
    },
    "id": "f1_2gwJxesd1",
    "outputId": "7ab51583-30be-40d3-966d-74f637cabe7f"
   },
   "outputs": [
    {
     "name": "stdout",
     "output_type": "stream",
     "text": [
      "tf.Tensor(\n",
      "[[[[   1    2    0]\n",
      "   [   3    5   -1]]\n",
      "\n",
      "  [[  10    2    0]\n",
      "   [   1    0    2]]\n",
      "\n",
      "  [[   5    8    0]\n",
      "   [   2    7    0]]\n",
      "\n",
      "  [[   2    1    9]\n",
      "   [   4   -3   32]]]\n",
      "\n",
      "\n",
      " [[[  13   26    0]\n",
      "   [   3    5  -12]]\n",
      "\n",
      "  [[  10    2    0]\n",
      "   [   1    0   23]]\n",
      "\n",
      "  [[   5    8    0]\n",
      "   [   2   73    0]]\n",
      "\n",
      "  [[   2    1    9]\n",
      "   [   4  -30   32]]]\n",
      "\n",
      "\n",
      " [[[ 103   26    0]\n",
      "   [   3   50  -12]]\n",
      "\n",
      "  [[ 100    2    0]\n",
      "   [   1    0   23]]\n",
      "\n",
      "  [[   5   28    0]\n",
      "   [   2    3    0]]\n",
      "\n",
      "  [[  22    1    9]\n",
      "   [  44 -320   32]]]], shape=(3, 4, 2, 3), dtype=int32)\n"
     ]
    }
   ],
   "source": [
    "tensor_four_d = tf.constant([\n",
    "\n",
    "[\n",
    "    [[1,2,0],\n",
    "    [3,5,-1]],\n",
    "\n",
    "    [[10,2,0],\n",
    "    [1,0,2]],\n",
    "\n",
    "    [[5,8,0],\n",
    "    [2,7,0]],\n",
    "\n",
    "    [[2,1,9],\n",
    "    [4,-3,32]],\n",
    "\n",
    "],\n",
    "\n",
    "[\n",
    "    [[13,26,0],\n",
    "    [3,5,-12]],\n",
    "\n",
    "    [[10,2,0],\n",
    "    [1,0,23]],\n",
    "\n",
    "    [[5,8,0],\n",
    "    [2,73,0]],\n",
    "\n",
    "    [[2,1,9],\n",
    "    [4,-30,32]],\n",
    "\n",
    "],\n",
    "\n",
    "[\n",
    "    [[103,26,0],\n",
    "    [3,50,-12]],\n",
    "\n",
    "    [[100,2,0],\n",
    "    [1,0,23]],\n",
    "\n",
    "    [[5,28,0],\n",
    "    [2,3,0]],\n",
    "\n",
    "    [[22,1,9],\n",
    "    [44,-320,32]],\n",
    "\n",
    "],\n",
    "\n",
    "])\n",
    "print(tensor_four_d)"
   ]
  },
  {
   "cell_type": "code",
   "execution_count": 106,
   "metadata": {
    "id": "zemReLhTesgg"
   },
   "outputs": [],
   "source": [
    "import numpy as np"
   ]
  },
  {
   "cell_type": "code",
   "execution_count": 107,
   "metadata": {
    "colab": {
     "base_uri": "https://localhost:8080/"
    },
    "id": "0L6D3yWGJc8N",
    "outputId": "f739ed49-888d-41b7-84e3-df82f03fe09e"
   },
   "outputs": [
    {
     "name": "stdout",
     "output_type": "stream",
     "text": [
      "[1 2 4]\n"
     ]
    }
   ],
   "source": [
    "np_array = np.array([1,2,4])\n",
    "print(np_array)"
   ]
  },
  {
   "cell_type": "code",
   "execution_count": 108,
   "metadata": {
    "colab": {
     "base_uri": "https://localhost:8080/"
    },
    "id": "rJ-JQ7v1Jc_N",
    "outputId": "1b6886fe-6ba4-4c9a-b1b7-def402425037"
   },
   "outputs": [
    {
     "name": "stdout",
     "output_type": "stream",
     "text": [
      "tf.Tensor([1 2 4], shape=(3,), dtype=int64)\n"
     ]
    }
   ],
   "source": [
    "converted_tensor = tf.convert_to_tensor(np_array)\n",
    "print(converted_tensor)"
   ]
  },
  {
   "cell_type": "code",
   "execution_count": 109,
   "metadata": {
    "colab": {
     "base_uri": "https://localhost:8080/"
    },
    "id": "JG3RpavHJdCI",
    "outputId": "6c3c5c13-e0ae-44f9-b26e-8f83929521c7"
   },
   "outputs": [
    {
     "name": "stdout",
     "output_type": "stream",
     "text": [
      "tf.Tensor(\n",
      "[[[[1. 0. 0. 0. 0.]\n",
      "   [0. 1. 0. 0. 0.]\n",
      "   [0. 0. 1. 0. 0.]\n",
      "   [0. 0. 0. 1. 0.]\n",
      "   [0. 0. 0. 0. 1.]]\n",
      "\n",
      "  [[1. 0. 0. 0. 0.]\n",
      "   [0. 1. 0. 0. 0.]\n",
      "   [0. 0. 1. 0. 0.]\n",
      "   [0. 0. 0. 1. 0.]\n",
      "   [0. 0. 0. 0. 1.]]\n",
      "\n",
      "  [[1. 0. 0. 0. 0.]\n",
      "   [0. 1. 0. 0. 0.]\n",
      "   [0. 0. 1. 0. 0.]\n",
      "   [0. 0. 0. 1. 0.]\n",
      "   [0. 0. 0. 0. 1.]]\n",
      "\n",
      "  [[1. 0. 0. 0. 0.]\n",
      "   [0. 1. 0. 0. 0.]\n",
      "   [0. 0. 1. 0. 0.]\n",
      "   [0. 0. 0. 1. 0.]\n",
      "   [0. 0. 0. 0. 1.]]]\n",
      "\n",
      "\n",
      " [[[1. 0. 0. 0. 0.]\n",
      "   [0. 1. 0. 0. 0.]\n",
      "   [0. 0. 1. 0. 0.]\n",
      "   [0. 0. 0. 1. 0.]\n",
      "   [0. 0. 0. 0. 1.]]\n",
      "\n",
      "  [[1. 0. 0. 0. 0.]\n",
      "   [0. 1. 0. 0. 0.]\n",
      "   [0. 0. 1. 0. 0.]\n",
      "   [0. 0. 0. 1. 0.]\n",
      "   [0. 0. 0. 0. 1.]]\n",
      "\n",
      "  [[1. 0. 0. 0. 0.]\n",
      "   [0. 1. 0. 0. 0.]\n",
      "   [0. 0. 1. 0. 0.]\n",
      "   [0. 0. 0. 1. 0.]\n",
      "   [0. 0. 0. 0. 1.]]\n",
      "\n",
      "  [[1. 0. 0. 0. 0.]\n",
      "   [0. 1. 0. 0. 0.]\n",
      "   [0. 0. 1. 0. 0.]\n",
      "   [0. 0. 0. 1. 0.]\n",
      "   [0. 0. 0. 0. 1.]]]], shape=(2, 4, 5, 5), dtype=float32)\n"
     ]
    }
   ],
   "source": [
    "eye_tensor = tf.eye(\n",
    "    num_rows=5,\n",
    "    num_columns=None,\n",
    "    batch_shape=[2,4],\n",
    "    dtype=tf.dtypes.float32,\n",
    "    name=None\n",
    ")\n",
    "print(eye_tensor)"
   ]
  },
  {
   "cell_type": "code",
   "execution_count": 110,
   "metadata": {
    "colab": {
     "base_uri": "https://localhost:8080/"
    },
    "id": "3MWVijr7K86i",
    "outputId": "b11f1031-05bc-464d-b9e1-068d95270cd8"
   },
   "outputs": [
    {
     "name": "stdout",
     "output_type": "stream",
     "text": [
      "tf.Tensor(\n",
      "[[[5 5 5 5]\n",
      "  [5 5 5 5]\n",
      "  [5 5 5 5]]], shape=(1, 3, 4), dtype=int32)\n"
     ]
    }
   ],
   "source": [
    "fill_tensor = tf.fill(\n",
    "    [1,3,4],5, name=None\n",
    ")\n",
    "print(fill_tensor)"
   ]
  },
  {
   "cell_type": "code",
   "execution_count": 111,
   "metadata": {
    "colab": {
     "base_uri": "https://localhost:8080/"
    },
    "id": "0Fu4qRh8QNYi",
    "outputId": "498b3df7-a067-41fe-8016-b528423a5517"
   },
   "outputs": [
    {
     "name": "stdout",
     "output_type": "stream",
     "text": [
      "tf.Tensor(\n",
      "[[0. 0.]\n",
      " [0. 0.]\n",
      " [0. 0.]], shape=(3, 2), dtype=float32)\n"
     ]
    }
   ],
   "source": [
    "zeros_tensor = tf.zeros(\n",
    "    [3,2],\n",
    "    dtype=tf.dtypes.float32,\n",
    "    name=None\n",
    ")\n",
    "print(zeros_tensor)"
   ]
  },
  {
   "cell_type": "code",
   "execution_count": 112,
   "metadata": {
    "colab": {
     "base_uri": "https://localhost:8080/"
    },
    "id": "fpK6gd6pK89P",
    "outputId": "2ad4df30-8602-44f9-bfeb-dff455b70aa3"
   },
   "outputs": [
    {
     "name": "stdout",
     "output_type": "stream",
     "text": [
      "tf.Tensor(\n",
      "[[1. 1.]\n",
      " [1. 1.]\n",
      " [1. 1.]], shape=(3, 2), dtype=float32)\n"
     ]
    }
   ],
   "source": [
    "ones_tensor = tf.ones(\n",
    "    [3,2],\n",
    "    dtype=tf.dtypes.float32,\n",
    "    name=None\n",
    ")\n",
    "print(ones_tensor)"
   ]
  },
  {
   "cell_type": "code",
   "execution_count": 113,
   "metadata": {
    "colab": {
     "base_uri": "https://localhost:8080/"
    },
    "id": "kJA6i52YPrh5",
    "outputId": "0578d29e-8e17-4505-dc73-37359c2344e1"
   },
   "outputs": [
    {
     "name": "stdout",
     "output_type": "stream",
     "text": [
      "tf.Tensor(\n",
      "[[[1 1 1 1]\n",
      "  [1 1 1 1]\n",
      "  [1 1 1 1]]], shape=(1, 3, 4), dtype=int32)\n"
     ]
    }
   ],
   "source": [
    "ones_like_tensor = tf.ones_like(fill_tensor)\n",
    "print(ones_like_tensor)"
   ]
  },
  {
   "cell_type": "code",
   "execution_count": 114,
   "metadata": {
    "colab": {
     "base_uri": "https://localhost:8080/"
    },
    "id": "MSvWlCLce6oF",
    "outputId": "1e1bda96-4ba4-42cc-80d3-03e8033d9ff3"
   },
   "outputs": [
    {
     "name": "stdout",
     "output_type": "stream",
     "text": [
      "tf.Tensor(\n",
      "[[ 99.819695  99.04971 ]\n",
      " [ 99.96036   99.25746 ]\n",
      " [101.32315   99.381454]], shape=(3, 2), dtype=float32)\n"
     ]
    }
   ],
   "source": [
    "random_tensor = tf.random.normal(\n",
    "    [3,2],\n",
    "    mean=100.0,\n",
    "    stddev=1.0,\n",
    "    dtype=tf.dtypes.float32,\n",
    "    seed=None,\n",
    "    name=None\n",
    ")\n",
    "print(random_tensor)"
   ]
  },
  {
   "cell_type": "code",
   "execution_count": 115,
   "metadata": {
    "colab": {
     "base_uri": "https://localhost:8080/"
    },
    "id": "eUPOFbrnk0Te",
    "outputId": "cfbad888-c773-4465-fc19-aee84028b60d"
   },
   "outputs": [
    {
     "name": "stdout",
     "output_type": "stream",
     "text": [
      "tf.Tensor(\n",
      "[[597 764 960 558  70]\n",
      " [817 340 143 777 334]\n",
      " [632 429 283 664 894]\n",
      " [120 292 511 585 171]\n",
      " [601 294 650 406 833]], shape=(5, 5), dtype=int32)\n"
     ]
    }
   ],
   "source": [
    "random_tensor = tf.random.uniform(\n",
    "    [5,5],\n",
    "    minval=0,\n",
    "    maxval=1000,\n",
    "    dtype=tf.dtypes.int32,\n",
    "    seed=None,\n",
    "    name=None\n",
    ")\n",
    "print(random_tensor)"
   ]
  },
  {
   "cell_type": "markdown",
   "metadata": {
    "id": "DhGmUu7J4Xvr"
   },
   "source": [
    "- Tensors can Multi Dimensional Arrays\n",
    "- An array is an ordered arrangement of numbers"
   ]
  },
  {
   "cell_type": "code",
   "execution_count": 116,
   "metadata": {
    "id": "v71qWRUBhjPq"
   },
   "outputs": [],
   "source": [
    "import tensorflow as tf\n",
    "import numpy as np"
   ]
  },
  {
   "cell_type": "code",
   "execution_count": 117,
   "metadata": {
    "colab": {
     "base_uri": "https://localhost:8080/"
    },
    "id": "rbPYPDNOKyVv",
    "outputId": "10cc326e-ac8c-47b5-a523-c9700e0c580d"
   },
   "outputs": [
    {
     "name": "stdout",
     "output_type": "stream",
     "text": [
      "tf.Tensor(1, shape=(), dtype=int32)\n"
     ]
    }
   ],
   "source": [
    "tensor_zero_d = tf.constant(1)\n",
    "print(tensor_zero_d)"
   ]
  },
  {
   "cell_type": "code",
   "execution_count": 118,
   "metadata": {
    "colab": {
     "base_uri": "https://localhost:8080/"
    },
    "id": "MA3uCGX9Cdfp",
    "outputId": "77a49885-cd77-4f39-b45f-9c7865313d83"
   },
   "outputs": [
    {
     "name": "stdout",
     "output_type": "stream",
     "text": [
      "tf.Tensor([3. 0. 3.], shape=(3,), dtype=float32)\n",
      "tf.Tensor([3 0 3], shape=(3,), dtype=uint16)\n"
     ]
    }
   ],
   "source": [
    "tensor_one_d = tf.constant([3,0,3], dtype = tf.float32)\n",
    "print(tensor_one_d)\n",
    "\n",
    "casted_tensor_one_d = tf.cast(tensor_one_d, dtype = tf.uint16)\n",
    "print(casted_tensor_one_d)"
   ]
  },
  {
   "cell_type": "code",
   "execution_count": 119,
   "metadata": {
    "colab": {
     "base_uri": "https://localhost:8080/"
    },
    "id": "ElZNIq8Xx1jR",
    "outputId": "cf9afc42-e045-4417-c9f5-a78974c92ded"
   },
   "outputs": [
    {
     "name": "stdout",
     "output_type": "stream",
     "text": [
      "tf.Tensor(\n",
      "[[ 1  2  0]\n",
      " [ 3  5 -1]\n",
      " [ 1  5  6]\n",
      " [ 2  3  8]], shape=(4, 3), dtype=int32)\n"
     ]
    }
   ],
   "source": [
    "tensor_two_d = tf.constant([[1,2,0],\n",
    "                            [3,5,-1],\n",
    "                            [1,5,6],\n",
    "                            [2,3,8]])\n",
    "print(tensor_two_d)"
   ]
  },
  {
   "cell_type": "code",
   "execution_count": 120,
   "metadata": {
    "colab": {
     "base_uri": "https://localhost:8080/"
    },
    "id": "JZoN_HVc0lpH",
    "outputId": "a9317b0f-d1ed-45eb-dd01-321649647508"
   },
   "outputs": [
    {
     "name": "stdout",
     "output_type": "stream",
     "text": [
      "3\n"
     ]
    }
   ],
   "source": [
    "tensor_three_d = tf.constant([[[1,2,0],\n",
    "                             [3,5,-1]],\n",
    "\n",
    "                            [[10,2,0],\n",
    "                             [1,0,2]],\n",
    "\n",
    "                            [[5,8,0],\n",
    "                             [2,7,0]],\n",
    "\n",
    "                            [[2,1,9],\n",
    "                             [4,-3,32]]])\n",
    "print(tensor_three_d.ndim)"
   ]
  },
  {
   "cell_type": "code",
   "execution_count": 121,
   "metadata": {
    "colab": {
     "base_uri": "https://localhost:8080/"
    },
    "id": "zWhaobDo1aSc",
    "outputId": "14339fae-e04e-410e-86ff-34ca0ea8c130"
   },
   "outputs": [
    {
     "name": "stdout",
     "output_type": "stream",
     "text": [
      "tf.Tensor(\n",
      "[[[[ 1  2  0]\n",
      "   [ 3  5 -1]]\n",
      "\n",
      "  [[10  2  0]\n",
      "   [ 1  0  2]]\n",
      "\n",
      "  [[ 5  8  0]\n",
      "   [ 2  7  0]]\n",
      "\n",
      "  [[ 2  1  9]\n",
      "   [ 4 -3 32]]]\n",
      "\n",
      "\n",
      " [[[ 0  2  5]\n",
      "   [ 5  3  1]]\n",
      "\n",
      "  [[ 0  2  0]\n",
      "   [-1 10  0]]\n",
      "\n",
      "  [[ 0  5  1]\n",
      "   [ 1  7  0]]\n",
      "\n",
      "  [[ 3  8  7]\n",
      "   [ 2  3  2]]]\n",
      "\n",
      "\n",
      " [[[ 4  5  4]\n",
      "   [ 3  1  1]]\n",
      "\n",
      "  [[ 0  2  5]\n",
      "   [ 0  4  3]]\n",
      "\n",
      "  [[ 3  2  4]\n",
      "   [ 5  8  3]]\n",
      "\n",
      "  [[ 8  2  5]\n",
      "   [ 2  3  3]]]], shape=(3, 4, 2, 3), dtype=int32)\n"
     ]
    }
   ],
   "source": [
    "tensor_four_d = tf.constant([[[[1,2,0],\n",
    "                             [3,5,-1]],\n",
    "\n",
    "                            [[10,2,0],\n",
    "                             [1,0,2]],\n",
    "\n",
    "                            [[5,8,0],\n",
    "                             [2,7,0]],\n",
    "\n",
    "                            [[2,1,9],\n",
    "                             [4,-3,32]]],\n",
    "\n",
    "\n",
    "\n",
    "                             [[[0,2,5],\n",
    "                             [5,3,1]],\n",
    "\n",
    "                            [[0,2,0],\n",
    "                             [-1,10,0]],\n",
    "\n",
    "                            [[0,5,1],\n",
    "                             [1,7,0]],\n",
    "\n",
    "                            [[3,8,7],\n",
    "                             [2,3,2]]],\n",
    "\n",
    "\n",
    "\n",
    "                             [[[4,5,4],\n",
    "                             [3,1,1]],\n",
    "\n",
    "                            [[0,2,5],\n",
    "                             [0,4,3]],\n",
    "\n",
    "                            [[3,2,4],\n",
    "                             [5,8,3]],\n",
    "\n",
    "                            [[8,2,5],\n",
    "                             [2,3,3]]]])\n",
    "print(tensor_four_d)"
   ]
  },
  {
   "cell_type": "code",
   "execution_count": 122,
   "metadata": {
    "colab": {
     "base_uri": "https://localhost:8080/"
    },
    "id": "HY_0VPiF4vuD",
    "outputId": "fedae42d-b379-4bd2-9aaf-a5630db69cfa"
   },
   "outputs": [
    {
     "name": "stdout",
     "output_type": "stream",
     "text": [
      "tf.Tensor(\n",
      "[[1 1 1 1]\n",
      " [1 1 1 1]\n",
      " [1 1 1 1]\n",
      " [1 1 1 1]], shape=(4, 4), dtype=int32)\n"
     ]
    }
   ],
   "source": [
    "x = tf.constant(1, shape= (4,4))\n",
    "print(x)"
   ]
  },
  {
   "cell_type": "code",
   "execution_count": 123,
   "metadata": {
    "colab": {
     "base_uri": "https://localhost:8080/"
    },
    "id": "G-z2Yc1aPajI",
    "outputId": "2a4105ed-3cc7-4cf0-cbe8-35f8b57196be"
   },
   "outputs": [
    {
     "name": "stdout",
     "output_type": "stream",
     "text": [
      "[3 4 5]\n"
     ]
    }
   ],
   "source": [
    "x_np = np.array([3,4,5])\n",
    "print(x_np)"
   ]
  },
  {
   "cell_type": "code",
   "execution_count": 124,
   "metadata": {
    "colab": {
     "base_uri": "https://localhost:8080/"
    },
    "id": "gDupT3PFPhWP",
    "outputId": "4df29e5b-4099-499a-a0ac-596bdebdfe1f"
   },
   "outputs": [
    {
     "name": "stdout",
     "output_type": "stream",
     "text": [
      "tf.Tensor([3. 4. 5.], shape=(3,), dtype=float16)\n"
     ]
    }
   ],
   "source": [
    "x_tf = tf.convert_to_tensor(x_np, dtype = tf.float16)\n",
    "print(x_tf)"
   ]
  },
  {
   "cell_type": "code",
   "execution_count": 125,
   "metadata": {
    "colab": {
     "base_uri": "https://localhost:8080/"
    },
    "id": "XKhfdrmruVsU",
    "outputId": "db04dbf8-8810-40de-aa4f-f1da769ffd8c"
   },
   "outputs": [
    {
     "name": "stdout",
     "output_type": "stream",
     "text": [
      "tf.Tensor(\n",
      "[[[1. 0. 0. 0.]\n",
      "  [0. 1. 0. 0.]\n",
      "  [0. 0. 1. 0.]\n",
      "  [0. 0. 0. 1.]]\n",
      "\n",
      " [[1. 0. 0. 0.]\n",
      "  [0. 1. 0. 0.]\n",
      "  [0. 0. 1. 0.]\n",
      "  [0. 0. 0. 1.]]], shape=(2, 4, 4), dtype=float32)\n"
     ]
    }
   ],
   "source": [
    "identity_matrix = tf.eye(4, batch_shape=[2], dtype=tf.dtypes.float32, name=None)\n",
    "print(identity_matrix)"
   ]
  },
  {
   "cell_type": "code",
   "execution_count": 126,
   "metadata": {
    "colab": {
     "base_uri": "https://localhost:8080/"
    },
    "id": "moc-0CGrvPSL",
    "outputId": "44a9f0c8-369b-4b3f-dafd-21a098bc0f6e"
   },
   "outputs": [
    {
     "name": "stdout",
     "output_type": "stream",
     "text": [
      "tf.Tensor(\n",
      "[[1. 1. 1.]\n",
      " [1. 1. 1.]\n",
      " [1. 1. 1.]\n",
      " [1. 1. 1.]], shape=(4, 3), dtype=float32)\n"
     ]
    }
   ],
   "source": [
    "filled_tensor = tf.fill([4,3], 1., )\n",
    "print(filled_tensor)"
   ]
  },
  {
   "cell_type": "code",
   "execution_count": 127,
   "metadata": {
    "colab": {
     "base_uri": "https://localhost:8080/"
    },
    "id": "ylCnIrjGCEy2",
    "outputId": "dc2b4837-fb8e-474f-8c32-5feb68b38732"
   },
   "outputs": [
    {
     "name": "stdout",
     "output_type": "stream",
     "text": [
      "tf.Tensor(\n",
      "[[1. 1. 1.]\n",
      " [1. 1. 1.]\n",
      " [1. 1. 1.]\n",
      " [1. 1. 1.]], shape=(4, 3), dtype=float32)\n"
     ]
    }
   ],
   "source": [
    "ones_tensor = tf.ones([4,3], dtype = tf.float32)\n",
    "print(ones_tensor)"
   ]
  },
  {
   "cell_type": "code",
   "execution_count": 128,
   "metadata": {
    "colab": {
     "base_uri": "https://localhost:8080/"
    },
    "id": "aVwcraruC7GM",
    "outputId": "54008aa9-b601-419c-87fa-8a90e9b84469"
   },
   "outputs": [
    {
     "name": "stdout",
     "output_type": "stream",
     "text": [
      "tf.Tensor(\n",
      "[[0. 0. 0.]\n",
      " [0. 0. 0.]\n",
      " [0. 0. 0.]\n",
      " [0. 0. 0.]], shape=(4, 3), dtype=float32)\n"
     ]
    }
   ],
   "source": [
    "zeros_tensor = tf.zeros([4,3], dtype = tf.float32)\n",
    "print(zeros_tensor)"
   ]
  },
  {
   "cell_type": "code",
   "execution_count": 129,
   "metadata": {
    "colab": {
     "base_uri": "https://localhost:8080/"
    },
    "id": "vacUubrjRd-X",
    "outputId": "df217e1b-1d22-434b-b2a8-9979cde1a41d"
   },
   "outputs": [
    {
     "name": "stdout",
     "output_type": "stream",
     "text": [
      "tf.Tensor(\n",
      "[[[[1 1 1]\n",
      "   [1 1 1]]\n",
      "\n",
      "  [[1 1 1]\n",
      "   [1 1 1]]\n",
      "\n",
      "  [[1 1 1]\n",
      "   [1 1 1]]\n",
      "\n",
      "  [[1 1 1]\n",
      "   [1 1 1]]]\n",
      "\n",
      "\n",
      " [[[1 1 1]\n",
      "   [1 1 1]]\n",
      "\n",
      "  [[1 1 1]\n",
      "   [1 1 1]]\n",
      "\n",
      "  [[1 1 1]\n",
      "   [1 1 1]]\n",
      "\n",
      "  [[1 1 1]\n",
      "   [1 1 1]]]\n",
      "\n",
      "\n",
      " [[[1 1 1]\n",
      "   [1 1 1]]\n",
      "\n",
      "  [[1 1 1]\n",
      "   [1 1 1]]\n",
      "\n",
      "  [[1 1 1]\n",
      "   [1 1 1]]\n",
      "\n",
      "  [[1 1 1]\n",
      "   [1 1 1]]]], shape=(3, 4, 2, 3), dtype=int32)\n",
      "(3, 4, 2, 3)\n"
     ]
    }
   ],
   "source": [
    "ones_like_tensor = tf.ones_like(tensor_four_d)\n",
    "print(ones_like_tensor)\n",
    "print(tensor_four_d.shape)"
   ]
  },
  {
   "cell_type": "code",
   "execution_count": 130,
   "metadata": {
    "id": "tOXsSjoeRz1F"
   },
   "outputs": [],
   "source": [
    "normal_tensor = tf.random_normal_initializer(\n",
    "    mean=0.0, stddev=0.05, seed=None\n",
    ")"
   ]
  },
  {
   "cell_type": "code",
   "execution_count": 131,
   "metadata": {
    "colab": {
     "base_uri": "https://localhost:8080/"
    },
    "id": "mUD-dGU9R0SH",
    "outputId": "95cd9f13-97d4-4719-9a9e-ee9ced5e7224"
   },
   "outputs": [
    {
     "name": "stdout",
     "output_type": "stream",
     "text": [
      "<tensorflow.python.ops.init_ops_v2.RandomNormal object at 0x14f69dbd0>\n"
     ]
    }
   ],
   "source": [
    "print(normal_tensor)"
   ]
  },
  {
   "cell_type": "code",
   "execution_count": 132,
   "metadata": {
    "colab": {
     "base_uri": "https://localhost:8080/"
    },
    "id": "LvBS6T2RUQe4",
    "outputId": "e6e31db3-d2d1-4da8-9ee4-8944e5668e43"
   },
   "outputs": [
    {
     "name": "stdout",
     "output_type": "stream",
     "text": [
      "tf.Tensor([2 5 8], shape=(3,), dtype=int32)\n"
     ]
    }
   ],
   "source": [
    "range_tensor = tf.range(start = 2, limit = 10, delta = 3)\n",
    "print(range_tensor)"
   ]
  },
  {
   "cell_type": "code",
   "execution_count": null,
   "metadata": {
    "id": "ejHU8A2LR0fz"
   },
   "outputs": [],
   "source": []
  },
  {
   "cell_type": "code",
   "execution_count": 133,
   "metadata": {
    "colab": {
     "base_uri": "https://localhost:8080/"
    },
    "id": "lvHLbzztR0mq",
    "outputId": "cdb11932-8076-46ab-f4cf-a506b769eed9"
   },
   "outputs": [
    {
     "name": "stdout",
     "output_type": "stream",
     "text": [
      "tf.Tensor([4 2 3], shape=(3,), dtype=int32)\n",
      "(4, 2, 3)\n"
     ]
    }
   ],
   "source": [
    "print(tf.shape(tensor_three_d,))\n",
    "print(tensor_three_d.shape)"
   ]
  },
  {
   "cell_type": "code",
   "execution_count": null,
   "metadata": {
    "id": "IOkFlTRt4WLd"
   },
   "outputs": [],
   "source": []
  },
  {
   "cell_type": "code",
   "execution_count": 134,
   "metadata": {
    "colab": {
     "base_uri": "https://localhost:8080/"
    },
    "id": "y1kmyitzR0o_",
    "outputId": "6dc5fdb0-aa1f-4221-c388-d6a60264e83a"
   },
   "outputs": [
    {
     "name": "stdout",
     "output_type": "stream",
     "text": [
      "tf.Tensor(72, shape=(), dtype=int32)\n"
     ]
    }
   ],
   "source": [
    "print(tf.size(tensor_four_d))"
   ]
  },
  {
   "cell_type": "code",
   "execution_count": 135,
   "metadata": {
    "colab": {
     "base_uri": "https://localhost:8080/"
    },
    "id": "eXaOYjteR0rg",
    "outputId": "13662e93-1cdb-4e0e-cad9-9ee3d92cf953"
   },
   "outputs": [
    {
     "data": {
      "text/plain": [
       "<tf.Tensor: shape=(2,), dtype=float32, numpy=array([98.82342, 99.97034], dtype=float32)>"
      ]
     },
     "execution_count": 135,
     "metadata": {},
     "output_type": "execute_result"
    }
   ],
   "source": [
    "g = tf.random.Generator.from_non_deterministic_state()\n",
    "g.normal(shape=(2,), mean = 100, stddev = 1)"
   ]
  },
  {
   "cell_type": "code",
   "execution_count": 136,
   "metadata": {
    "colab": {
     "base_uri": "https://localhost:8080/"
    },
    "id": "voN_Sa1dYhVt",
    "outputId": "078d2df8-4449-4c93-e56e-5c0cec4659e1"
   },
   "outputs": [
    {
     "data": {
      "text/plain": [
       "<tf.Tensor: shape=(2,), dtype=float32, numpy=array([34.24163 , 36.773933], dtype=float32)>"
      ]
     },
     "execution_count": 136,
     "metadata": {},
     "output_type": "execute_result"
    }
   ],
   "source": [
    "g = tf.random.Generator.from_non_deterministic_state()\n",
    "g.uniform(shape=(2,), minval = 25, maxval = 40)"
   ]
  },
  {
   "cell_type": "code",
   "execution_count": 137,
   "metadata": {
    "colab": {
     "base_uri": "https://localhost:8080/"
    },
    "id": "e1wmfNLybAfE",
    "outputId": "3b066245-5c9d-42ec-b8ff-2940305da096"
   },
   "outputs": [
    {
     "data": {
      "text/plain": [
       "<tf.Tensor: shape=(3,), dtype=float32, numpy=array([12.151812,  9.970952, 69.518616], dtype=float32)>"
      ]
     },
     "execution_count": 137,
     "metadata": {},
     "output_type": "execute_result"
    }
   ],
   "source": [
    "tf.random.normal(\n",
    "    (3,), mean=0.0, stddev=100.0, dtype=tf.dtypes.float32, seed=12, name=\"Random Number with Normal distribution\"\n",
    ")"
   ]
  },
  {
   "cell_type": "code",
   "execution_count": 138,
   "metadata": {
    "colab": {
     "base_uri": "https://localhost:8080/"
    },
    "id": "bZ_hQJkbAr9T",
    "outputId": "ccf74b51-83a5-4aaf-f4a5-1c6f9e29d7f9"
   },
   "outputs": [
    {
     "data": {
      "text/plain": [
       "<tf.Tensor: shape=(2,), dtype=float32, numpy=array([20.179546, 34.707115], dtype=float32)>"
      ]
     },
     "execution_count": 138,
     "metadata": {},
     "output_type": "execute_result"
    }
   ],
   "source": [
    "tf.random.uniform(\n",
    "    (2,), minval=0, maxval=100, dtype=tf.dtypes.float32, seed=None, name=None\n",
    ")"
   ]
  },
  {
   "cell_type": "code",
   "execution_count": 139,
   "metadata": {
    "colab": {
     "base_uri": "https://localhost:8080/"
    },
    "id": "vh-eXdHQMHl9",
    "outputId": "b68e3727-ae80-49b7-f19d-855fc5c23a21"
   },
   "outputs": [
    {
     "name": "stdout",
     "output_type": "stream",
     "text": [
      "tf.Tensor([ 3  6  2  4  6 66  7], shape=(7,), dtype=int32)\n",
      "tf.Tensor([3 6 2 4], shape=(4,), dtype=int32)\n",
      "tf.Tensor([4], shape=(1,), dtype=int32)\n"
     ]
    }
   ],
   "source": [
    "tensor_indexed = tf.constant([3,6,2,4,6,66,7])\n",
    "print(tensor_indexed[:])\n",
    "print(tensor_indexed[0:4])\n",
    "print(tensor_indexed[3:-3])"
   ]
  },
  {
   "cell_type": "code",
   "execution_count": 140,
   "metadata": {
    "colab": {
     "base_uri": "https://localhost:8080/"
    },
    "id": "212nNIo1Y0gb",
    "outputId": "a35a8248-beac-49b2-a71b-d703b00e59d7"
   },
   "outputs": [
    {
     "name": "stdout",
     "output_type": "stream",
     "text": [
      "tf.Tensor([2 5 5 3], shape=(4,), dtype=int32)\n"
     ]
    }
   ],
   "source": [
    "tensor_two_d = tf.constant([[1,2,0],\n",
    "                            [3,5,-1],\n",
    "                            [1,5,6],\n",
    "                            [2,3,8]])\n",
    "print(tensor_two_d[...,1])"
   ]
  },
  {
   "cell_type": "code",
   "execution_count": 141,
   "metadata": {
    "colab": {
     "base_uri": "https://localhost:8080/"
    },
    "id": "YRc4Zgl4Y9z3",
    "outputId": "d4bf94a3-9914-4eac-84b2-c5afaf8f3c58"
   },
   "outputs": [
    {
     "name": "stdout",
     "output_type": "stream",
     "text": [
      "tf.Tensor(\n",
      "[[ 0 -1]\n",
      " [ 0  2]\n",
      " [ 0  0]\n",
      " [ 9 32]], shape=(4, 2), dtype=int32)\n"
     ]
    }
   ],
   "source": [
    "tensor_three_d = tf.constant([\n",
    "\n",
    "\n",
    "                              [[1,2,0],\n",
    "                               [3,5,-1]],\n",
    "\n",
    "                              [[10,2,0],\n",
    "                               [1,0,2]],\n",
    "\n",
    "                              [[5,8,0],\n",
    "                               [2,7,0]],\n",
    "\n",
    "                              [[2,1,9],\n",
    "                               [4,-3,32]]\n",
    "\n",
    "\n",
    "                              ])\n",
    "\n",
    "print(tensor_three_d[ ... , : , 2])"
   ]
  },
  {
   "cell_type": "code",
   "execution_count": 142,
   "metadata": {
    "colab": {
     "base_uri": "https://localhost:8080/"
    },
    "id": "ReoN7RlXhHkA",
    "outputId": "08f3ca6d-c3cf-4351-db81-47970c236a21"
   },
   "outputs": [
    {
     "name": "stdout",
     "output_type": "stream",
     "text": [
      "tf.Tensor(\n",
      "[[[ 0]\n",
      "  [-1]]\n",
      "\n",
      " [[ 0]\n",
      "  [ 2]]\n",
      "\n",
      " [[ 0]\n",
      "  [ 0]]\n",
      "\n",
      " [[ 9]\n",
      "  [32]]], shape=(4, 2, 1), dtype=int32)\n"
     ]
    }
   ],
   "source": [
    "print(tf.expand_dims(tensor_three_d[ ... , : , 2],-1))"
   ]
  },
  {
   "cell_type": "code",
   "execution_count": 143,
   "metadata": {
    "colab": {
     "base_uri": "https://localhost:8080/"
    },
    "id": "idTAaYyJi-RL",
    "outputId": "0b17e7c8-5f73-49bc-f74f-244c7357b3e8"
   },
   "outputs": [
    {
     "data": {
      "text/plain": [
       "<tf.Tensor: shape=(2,), dtype=float32, numpy=array([2.25, 3.25], dtype=float32)>"
      ]
     },
     "execution_count": 143,
     "metadata": {},
     "output_type": "execute_result"
    }
   ],
   "source": [
    "x_abs = tf.constant([-2.25, 3.25])\n",
    "tf.abs(x_abs)"
   ]
  },
  {
   "cell_type": "code",
   "execution_count": 144,
   "metadata": {
    "colab": {
     "base_uri": "https://localhost:8080/"
    },
    "id": "zEM44Q6Wj898",
    "outputId": "6a09abeb-e600-4223-c3f2-fa6fa8dabf23"
   },
   "outputs": [
    {
     "data": {
      "text/plain": [
       "<tf.Tensor: shape=(), dtype=float32, numpy=0.20000000298023224>"
      ]
     },
     "execution_count": 144,
     "metadata": {},
     "output_type": "execute_result"
    }
   ],
   "source": [
    "tf.abs(tf.constant(-0.2))"
   ]
  },
  {
   "cell_type": "code",
   "execution_count": 145,
   "metadata": {
    "colab": {
     "base_uri": "https://localhost:8080/"
    },
    "id": "5MK1QlmZkGl1",
    "outputId": "72d7d586-c6be-4a0c-f887-f984d236046c"
   },
   "outputs": [
    {
     "data": {
      "text/plain": [
       "<tf.Tensor: shape=(1,), dtype=float64, numpy=array([5.25594901])>"
      ]
     },
     "execution_count": 145,
     "metadata": {},
     "output_type": "execute_result"
    }
   ],
   "source": [
    "x_abs_complex = tf.constant([-2.25 + 4.75j])\n",
    "tf.abs(x_abs_complex)\n"
   ]
  },
  {
   "cell_type": "code",
   "execution_count": 146,
   "metadata": {
    "colab": {
     "base_uri": "https://localhost:8080/"
    },
    "id": "_WJCCsbNlK9v",
    "outputId": "58ec559e-51d8-4bae-8a49-8f1d4affe919"
   },
   "outputs": [
    {
     "data": {
      "text/plain": [
       "<tf.Tensor: shape=(), dtype=float32, numpy=5.255949020385742>"
      ]
     },
     "execution_count": 146,
     "metadata": {},
     "output_type": "execute_result"
    }
   ],
   "source": [
    "tf.sqrt((-2.25)**2 + 4.75**2)"
   ]
  },
  {
   "cell_type": "code",
   "execution_count": 147,
   "metadata": {
    "colab": {
     "base_uri": "https://localhost:8080/"
    },
    "id": "aWtN5DYrlbQl",
    "outputId": "5d8c179b-5fef-483e-b441-4a93c1e33e6e"
   },
   "outputs": [
    {
     "name": "stdout",
     "output_type": "stream",
     "text": [
      "(1, 6)\n",
      "(3, 1)\n",
      "tf.Tensor(\n",
      "[[35. 21. 42. 42. 28. 42.]\n",
      " [25. 15. 30. 30. 20. 30.]\n",
      " [15.  9. 18. 18. 12. 18.]], shape=(3, 6), dtype=float32)\n"
     ]
    }
   ],
   "source": [
    "x_1 = tf.constant([[5,3,6,6,4,6]], dtype = tf.float32)\n",
    "x_2 = tf.constant([[7], [5], [3]], dtype = tf.float32)\n",
    "\n",
    "print(x_1.shape)\n",
    "print(x_2.shape)\n",
    "print(tf.math.multiply(x_1, x_2))"
   ]
  },
  {
   "cell_type": "code",
   "execution_count": 148,
   "metadata": {
    "colab": {
     "base_uri": "https://localhost:8080/"
    },
    "id": "B3M6S96Xvtx3",
    "outputId": "4bd97168-deb4-4817-e63d-3124ec760a9c"
   },
   "outputs": [
    {
     "name": "stdout",
     "output_type": "stream",
     "text": [
      "(3, 5)\n",
      "tf.Tensor([0 3 3], shape=(3,), dtype=int64)\n"
     ]
    }
   ],
   "source": [
    "x_argmax = tf.constant([[2, 20, 30, 3, 6],\n",
    "                        [3, 11, 16, 1, 8],\n",
    "                        [14, 45, 23, 5, 27]])\n",
    "\n",
    "print(x_argmax.shape)\n",
    "print(tf.math.argmin(x_argmax, axis = 1))"
   ]
  },
  {
   "cell_type": "code",
   "execution_count": 149,
   "metadata": {
    "colab": {
     "base_uri": "https://localhost:8080/"
    },
    "id": "0c8TcWr356Yo",
    "outputId": "6e638de0-2421-412b-f3d7-ada0b3facf40"
   },
   "outputs": [
    {
     "name": "stdout",
     "output_type": "stream",
     "text": [
      "tf.Tensor(0, shape=(), dtype=int64)\n"
     ]
    }
   ],
   "source": [
    "x_argmax = tf.constant([200, 120, 130, 3, 6])\n",
    "print(tf.math.argmax(x_argmax))"
   ]
  },
  {
   "cell_type": "code",
   "execution_count": 150,
   "metadata": {
    "colab": {
     "base_uri": "https://localhost:8080/"
    },
    "id": "uVyoaAOW6GWl",
    "outputId": "f8a40e88-aa24-417a-bab2-ee070afc2d90"
   },
   "outputs": [
    {
     "name": "stdout",
     "output_type": "stream",
     "text": [
      "tf.Tensor(3, shape=(), dtype=int64)\n"
     ]
    }
   ],
   "source": [
    "x_argmax = tf.constant([200, 120, 130, 300, 6])\n",
    "print(tf.math.argmax(x_argmax))"
   ]
  },
  {
   "cell_type": "code",
   "execution_count": 151,
   "metadata": {
    "colab": {
     "base_uri": "https://localhost:8080/"
    },
    "id": "-PyiwLjn6QVb",
    "outputId": "2146e707-bc82-41eb-b393-6ddd0798e43c"
   },
   "outputs": [
    {
     "data": {
      "text/plain": [
       "<tf.Tensor: shape=(2, 2), dtype=int32, numpy=\n",
       "array([[ 8,  1],\n",
       "       [ 3, 81]], dtype=int32)>"
      ]
     },
     "execution_count": 151,
     "metadata": {},
     "output_type": "execute_result"
    }
   ],
   "source": [
    "x = tf.constant([[2, 2], [3, 3]])\n",
    "y = tf.constant([[3, 0], [1, 4]])\n",
    "tf.pow(x, y)"
   ]
  },
  {
   "cell_type": "code",
   "execution_count": 152,
   "metadata": {
    "colab": {
     "base_uri": "https://localhost:8080/"
    },
    "id": "8K-n06t69QwS",
    "outputId": "a4f68fde-3152-4a5e-a1b0-d1afd19dfb46"
   },
   "outputs": [
    {
     "data": {
      "text/plain": [
       "<tf.Tensor: shape=(), dtype=int32, numpy=8>"
      ]
     },
     "execution_count": 152,
     "metadata": {},
     "output_type": "execute_result"
    }
   ],
   "source": [
    "tf.pow(tf.constant(2) ,tf.constant(3))"
   ]
  },
  {
   "cell_type": "code",
   "execution_count": 153,
   "metadata": {
    "colab": {
     "base_uri": "https://localhost:8080/"
    },
    "id": "hdT8eEGe9XSq",
    "outputId": "569ed7c5-8431-4600-bd81-9b69fecd5b6d"
   },
   "outputs": [
    {
     "name": "stdout",
     "output_type": "stream",
     "text": [
      "(4, 3)\n",
      "tf.Tensor([[ 0.829  2.861 41.38 ]], shape=(1, 3), dtype=float16)\n"
     ]
    }
   ],
   "source": [
    "tensor_two_d = tf.constant([[1,-2,0],\n",
    "                            [3,5,100],\n",
    "                            [1,5,6],\n",
    "                            [2,3,8]], dtype = tf.float16)\n",
    "print(tensor_two_d.shape)\n",
    "\n",
    "print(tf.math.reduce_std(tensor_two_d, axis=0, keepdims=True, name=None))"
   ]
  },
  {
   "cell_type": "code",
   "execution_count": 154,
   "metadata": {
    "colab": {
     "base_uri": "https://localhost:8080/"
    },
    "id": "KS1itgw894MV",
    "outputId": "96ecd1a4-59aa-42b4-c456-f68a63a8fcb1"
   },
   "outputs": [
    {
     "data": {
      "text/plain": [
       "TopKV2(values=<tf.Tensor: shape=(4, 2), dtype=float16, numpy=\n",
       "array([[  1.,   0.],\n",
       "       [100.,   5.],\n",
       "       [  6.,   5.],\n",
       "       [  8.,   3.]], dtype=float16)>, indices=<tf.Tensor: shape=(4, 2), dtype=int32, numpy=\n",
       "array([[0, 2],\n",
       "       [2, 1],\n",
       "       [2, 1],\n",
       "       [2, 1]], dtype=int32)>)"
      ]
     },
     "execution_count": 154,
     "metadata": {},
     "output_type": "execute_result"
    }
   ],
   "source": [
    "tf.math.top_k(tensor_two_d, k = 2)"
   ]
  },
  {
   "cell_type": "code",
   "execution_count": 155,
   "metadata": {
    "colab": {
     "base_uri": "https://localhost:8080/"
    },
    "id": "jdCXMAfk-ztp",
    "outputId": "2df47312-0f4c-4fc6-bd52-f72a8bfd29b6"
   },
   "outputs": [
    {
     "name": "stdout",
     "output_type": "stream",
     "text": [
      "(1, 3) (3, 2) (2, 4) (2, 3)\n",
      "tf.Tensor(\n",
      "[[ 7 18 19]\n",
      " [12 31 33]\n",
      " [-2 -5 -5]\n",
      " [ 6 16 18]], shape=(4, 3), dtype=int32)\n"
     ]
    },
    {
     "ename": "ValueError",
     "evalue": "Only one of `transpose_b` and `adjoint_b` can be True. Received `transpose_b`=True, `adjoint_b`=True.",
     "output_type": "error",
     "traceback": [
      "\u001b[0;31m---------------------------------------------------------------------------\u001b[0m",
      "\u001b[0;31mValueError\u001b[0m                                Traceback (most recent call last)",
      "Cell \u001b[0;32mIn[155], line 14\u001b[0m\n\u001b[1;32m     11\u001b[0m \u001b[38;5;66;03m# x_3.T = 4,2\u001b[39;00m\n\u001b[1;32m     12\u001b[0m \u001b[38;5;66;03m# x_2.T = 2,3\u001b[39;00m\n\u001b[1;32m     13\u001b[0m \u001b[38;5;28mprint\u001b[39m(tf\u001b[38;5;241m.\u001b[39mtranspose(x_3)\u001b[38;5;129m@tf\u001b[39m\u001b[38;5;241m.\u001b[39mtranspose(x_2))\n\u001b[0;32m---> 14\u001b[0m \u001b[43mtf\u001b[49m\u001b[38;5;241;43m.\u001b[39;49m\u001b[43mlinalg\u001b[49m\u001b[38;5;241;43m.\u001b[39;49m\u001b[43mmatmul\u001b[49m\u001b[43m(\u001b[49m\n\u001b[1;32m     15\u001b[0m \u001b[43m    \u001b[49m\u001b[43mx_3\u001b[49m\u001b[43m,\u001b[49m\u001b[43m \u001b[49m\u001b[43mx_2\u001b[49m\u001b[43m,\u001b[49m\u001b[43m \u001b[49m\u001b[43mtranspose_a\u001b[49m\u001b[38;5;241;43m=\u001b[39;49m\u001b[38;5;28;43;01mTrue\u001b[39;49;00m\u001b[43m,\u001b[49m\u001b[43m \u001b[49m\u001b[43mtranspose_b\u001b[49m\u001b[38;5;241;43m=\u001b[39;49m\u001b[38;5;28;43;01mTrue\u001b[39;49;00m\u001b[43m,\u001b[49m\u001b[43m \u001b[49m\u001b[43madjoint_a\u001b[49m\u001b[38;5;241;43m=\u001b[39;49m\u001b[38;5;28;43;01mFalse\u001b[39;49;00m\u001b[43m,\u001b[49m\u001b[43m \u001b[49m\u001b[43madjoint_b\u001b[49m\u001b[38;5;241;43m=\u001b[39;49m\u001b[38;5;28;43;01mTrue\u001b[39;49;00m\u001b[43m,\u001b[49m\n\u001b[1;32m     16\u001b[0m \u001b[43m    \u001b[49m\u001b[43ma_is_sparse\u001b[49m\u001b[38;5;241;43m=\u001b[39;49m\u001b[38;5;28;43;01mFalse\u001b[39;49;00m\u001b[43m,\u001b[49m\u001b[43m \u001b[49m\u001b[43mb_is_sparse\u001b[49m\u001b[38;5;241;43m=\u001b[39;49m\u001b[38;5;28;43;01mFalse\u001b[39;49;00m\u001b[43m,\u001b[49m\u001b[43m \u001b[49m\u001b[43moutput_type\u001b[49m\u001b[38;5;241;43m=\u001b[39;49m\u001b[38;5;28;43;01mNone\u001b[39;49;00m\u001b[43m,\u001b[49m\u001b[43m \u001b[49m\u001b[43mname\u001b[49m\u001b[38;5;241;43m=\u001b[39;49m\u001b[38;5;28;43;01mNone\u001b[39;49;00m\n\u001b[1;32m     17\u001b[0m \u001b[43m)\u001b[49m\n",
      "File \u001b[0;32m/opt/homebrew/Caskroom/miniconda/base/envs/tensorflow/lib/python3.10/site-packages/tensorflow/python/ops/weak_tensor_ops.py:142\u001b[0m, in \u001b[0;36mweak_tensor_binary_op_wrapper.<locals>.wrapper\u001b[0;34m(*args, **kwargs)\u001b[0m\n\u001b[1;32m    140\u001b[0m \u001b[38;5;28;01mdef\u001b[39;00m \u001b[38;5;21mwrapper\u001b[39m(\u001b[38;5;241m*\u001b[39margs, \u001b[38;5;241m*\u001b[39m\u001b[38;5;241m*\u001b[39mkwargs):\n\u001b[1;32m    141\u001b[0m   \u001b[38;5;28;01mif\u001b[39;00m \u001b[38;5;129;01mnot\u001b[39;00m ops\u001b[38;5;241m.\u001b[39mis_auto_dtype_conversion_enabled():\n\u001b[0;32m--> 142\u001b[0m     \u001b[38;5;28;01mreturn\u001b[39;00m \u001b[43mop\u001b[49m\u001b[43m(\u001b[49m\u001b[38;5;241;43m*\u001b[39;49m\u001b[43margs\u001b[49m\u001b[43m,\u001b[49m\u001b[43m \u001b[49m\u001b[38;5;241;43m*\u001b[39;49m\u001b[38;5;241;43m*\u001b[39;49m\u001b[43mkwargs\u001b[49m\u001b[43m)\u001b[49m\n\u001b[1;32m    143\u001b[0m   bound_arguments \u001b[38;5;241m=\u001b[39m signature\u001b[38;5;241m.\u001b[39mbind(\u001b[38;5;241m*\u001b[39margs, \u001b[38;5;241m*\u001b[39m\u001b[38;5;241m*\u001b[39mkwargs)\n\u001b[1;32m    144\u001b[0m   bound_arguments\u001b[38;5;241m.\u001b[39mapply_defaults()\n",
      "File \u001b[0;32m/opt/homebrew/Caskroom/miniconda/base/envs/tensorflow/lib/python3.10/site-packages/tensorflow/python/util/traceback_utils.py:153\u001b[0m, in \u001b[0;36mfilter_traceback.<locals>.error_handler\u001b[0;34m(*args, **kwargs)\u001b[0m\n\u001b[1;32m    151\u001b[0m \u001b[38;5;28;01mexcept\u001b[39;00m \u001b[38;5;167;01mException\u001b[39;00m \u001b[38;5;28;01mas\u001b[39;00m e:\n\u001b[1;32m    152\u001b[0m   filtered_tb \u001b[38;5;241m=\u001b[39m _process_traceback_frames(e\u001b[38;5;241m.\u001b[39m__traceback__)\n\u001b[0;32m--> 153\u001b[0m   \u001b[38;5;28;01mraise\u001b[39;00m e\u001b[38;5;241m.\u001b[39mwith_traceback(filtered_tb) \u001b[38;5;28;01mfrom\u001b[39;00m \u001b[38;5;28;01mNone\u001b[39;00m\n\u001b[1;32m    154\u001b[0m \u001b[38;5;28;01mfinally\u001b[39;00m:\n\u001b[1;32m    155\u001b[0m   \u001b[38;5;28;01mdel\u001b[39;00m filtered_tb\n",
      "File \u001b[0;32m/opt/homebrew/Caskroom/miniconda/base/envs/tensorflow/lib/python3.10/site-packages/tensorflow/python/ops/math_ops.py:3562\u001b[0m, in \u001b[0;36mmatmul\u001b[0;34m(a, b, transpose_a, transpose_b, adjoint_a, adjoint_b, a_is_sparse, b_is_sparse, output_type, grad_a, grad_b, name)\u001b[0m\n\u001b[1;32m   3557\u001b[0m   \u001b[38;5;28;01mraise\u001b[39;00m \u001b[38;5;167;01mValueError\u001b[39;00m(\n\u001b[1;32m   3558\u001b[0m       \u001b[38;5;124mf\u001b[39m\u001b[38;5;124m\"\u001b[39m\u001b[38;5;124mOnly one of `transpose_a` and `adjoint_a` can be True. \u001b[39m\u001b[38;5;124m\"\u001b[39m\n\u001b[1;32m   3559\u001b[0m       \u001b[38;5;124mf\u001b[39m\u001b[38;5;124m\"\u001b[39m\u001b[38;5;124mReceived `transpose_a`=\u001b[39m\u001b[38;5;132;01m{\u001b[39;00mtranspose_a\u001b[38;5;132;01m}\u001b[39;00m\u001b[38;5;124m, \u001b[39m\u001b[38;5;124m\"\u001b[39m\n\u001b[1;32m   3560\u001b[0m       \u001b[38;5;124mf\u001b[39m\u001b[38;5;124m\"\u001b[39m\u001b[38;5;124m`adjoint_a`=\u001b[39m\u001b[38;5;132;01m{\u001b[39;00madjoint_a\u001b[38;5;132;01m}\u001b[39;00m\u001b[38;5;124m.\u001b[39m\u001b[38;5;124m\"\u001b[39m)\n\u001b[1;32m   3561\u001b[0m \u001b[38;5;28;01mif\u001b[39;00m transpose_b \u001b[38;5;129;01mand\u001b[39;00m adjoint_b:\n\u001b[0;32m-> 3562\u001b[0m   \u001b[38;5;28;01mraise\u001b[39;00m \u001b[38;5;167;01mValueError\u001b[39;00m(\n\u001b[1;32m   3563\u001b[0m       \u001b[38;5;124mf\u001b[39m\u001b[38;5;124m\"\u001b[39m\u001b[38;5;124mOnly one of `transpose_b` and `adjoint_b` can be True. \u001b[39m\u001b[38;5;124m\"\u001b[39m\n\u001b[1;32m   3564\u001b[0m       \u001b[38;5;124mf\u001b[39m\u001b[38;5;124m\"\u001b[39m\u001b[38;5;124mReceived `transpose_b`=\u001b[39m\u001b[38;5;132;01m{\u001b[39;00mtranspose_b\u001b[38;5;132;01m}\u001b[39;00m\u001b[38;5;124m, \u001b[39m\u001b[38;5;124m\"\u001b[39m\n\u001b[1;32m   3565\u001b[0m       \u001b[38;5;124mf\u001b[39m\u001b[38;5;124m\"\u001b[39m\u001b[38;5;124m`adjoint_b`=\u001b[39m\u001b[38;5;132;01m{\u001b[39;00madjoint_b\u001b[38;5;132;01m}\u001b[39;00m\u001b[38;5;124m.\u001b[39m\u001b[38;5;124m\"\u001b[39m)\n\u001b[1;32m   3567\u001b[0m \u001b[38;5;28;01mif\u001b[39;00m context\u001b[38;5;241m.\u001b[39mexecuting_eagerly():\n\u001b[1;32m   3568\u001b[0m   \u001b[38;5;28;01mif\u001b[39;00m \u001b[38;5;129;01mnot\u001b[39;00m (\n\u001b[1;32m   3569\u001b[0m       \u001b[38;5;28misinstance\u001b[39m(a, ops\u001b[38;5;241m.\u001b[39mEagerTensor) \u001b[38;5;129;01mor\u001b[39;00m _pywrap_utils\u001b[38;5;241m.\u001b[39mIsResourceVariable(a)\n\u001b[1;32m   3570\u001b[0m   ):\n",
      "\u001b[0;31mValueError\u001b[0m: Only one of `transpose_b` and `adjoint_b` can be True. Received `transpose_b`=True, `adjoint_b`=True."
     ]
    }
   ],
   "source": [
    "x_1 = tf.constant([[1,2,0]])\n",
    "\n",
    "x_2 = tf.constant([[1,2],\n",
    "                  [3,5],\n",
    "                  [4,5]])\n",
    "\n",
    "x_3 = tf.constant([[1,2,0,2],\n",
    "                  [3,5,-1,2]])\n",
    "\n",
    "print(x_1.shape, x_2.shape, x_3.shape, tf.transpose(x_2).shape)\n",
    "# x_3.T = 4,2\n",
    "# x_2.T = 2,3\n",
    "print(tf.transpose(x_3)@tf.transpose(x_2))\n",
    "tf.linalg.matmul(\n",
    "    x_3, x_2, transpose_a=True, transpose_b=True, adjoint_a=False, adjoint_b=True,\n",
    "    a_is_sparse=False, b_is_sparse=False, output_type=None, name=None\n",
    ")"
   ]
  },
  {
   "cell_type": "code",
   "execution_count": 156,
   "metadata": {
    "colab": {
     "base_uri": "https://localhost:8080/"
    },
    "id": "zDx4KQjMQva0",
    "outputId": "3feb42e1-b13c-4fa0-f8d8-033ed56227a8"
   },
   "outputs": [
    {
     "data": {
      "text/plain": [
       "<tf.Tensor: shape=(1, 2), dtype=int32, numpy=array([[ 7, 12]], dtype=int32)>"
      ]
     },
     "execution_count": 156,
     "metadata": {},
     "output_type": "execute_result"
    }
   ],
   "source": [
    "x_1@x_2"
   ]
  },
  {
   "cell_type": "code",
   "execution_count": 157,
   "metadata": {
    "colab": {
     "base_uri": "https://localhost:8080/"
    },
    "id": "ZRv4BzcGU9I9",
    "outputId": "32c87967-5f70-4458-a6bc-4115f4c1e9bc"
   },
   "outputs": [
    {
     "data": {
      "text/plain": [
       "<tf.Tensor: shape=(2, 3), dtype=int32, numpy=\n",
       "array([[1, 3, 4],\n",
       "       [2, 5, 5]], dtype=int32)>"
      ]
     },
     "execution_count": 157,
     "metadata": {},
     "output_type": "execute_result"
    }
   ],
   "source": [
    "tf.transpose(x_2)"
   ]
  },
  {
   "cell_type": "code",
   "execution_count": 158,
   "metadata": {
    "colab": {
     "base_uri": "https://localhost:8080/"
    },
    "id": "yerkW5UsVqiC",
    "outputId": "acd88c0f-153b-4625-a7d1-e428262a8f52"
   },
   "outputs": [
    {
     "name": "stdout",
     "output_type": "stream",
     "text": [
      "tf.Tensor(\n",
      "[[1 2]\n",
      " [3 5]\n",
      " [4 5]], shape=(3, 2), dtype=int32)\n"
     ]
    }
   ],
   "source": [
    "print(x_2)"
   ]
  },
  {
   "cell_type": "code",
   "execution_count": 159,
   "metadata": {
    "colab": {
     "base_uri": "https://localhost:8080/"
    },
    "id": "MgKN5fVZV4cR",
    "outputId": "4dc58113-3929-44fc-b976-cc528e52f411"
   },
   "outputs": [
    {
     "name": "stdout",
     "output_type": "stream",
     "text": [
      "tf.Tensor(\n",
      "[[[ 73  31   6]\n",
      "  [185  78  17]]\n",
      "\n",
      " [[ 10  20  20]\n",
      "  [ 11   8   6]]\n",
      "\n",
      " [[ 10  10  15]\n",
      "  [  4   4   6]]], shape=(3, 2, 3), dtype=int32)\n"
     ]
    }
   ],
   "source": [
    "x_1 =  tf.constant([[[1,2],\n",
    "                    [3,5]],\n",
    "\n",
    "                    [[10,0],\n",
    "                    [1,2]],\n",
    "\n",
    "                    [[5,0],\n",
    "                    [2,0]]])\n",
    "\n",
    "x_2 = tf.constant([[[5,1,4],\n",
    "                    [34,15,1]],\n",
    "\n",
    "                    [[1,2,2],\n",
    "                    [5,3,2]],\n",
    "\n",
    "                    [[2,2,3],\n",
    "                    [1,1,1]]])\n",
    "\n",
    "print(tf.linalg.matmul(x_1, x_2))"
   ]
  },
  {
   "cell_type": "code",
   "execution_count": 160,
   "metadata": {
    "colab": {
     "base_uri": "https://localhost:8080/"
    },
    "id": "ebDr3NuFY2zx",
    "outputId": "7aad60e3-1325-411c-8cb2-d614f0cf4272"
   },
   "outputs": [
    {
     "name": "stdout",
     "output_type": "stream",
     "text": [
      "tf.Tensor(\n",
      "[[0 0 0]\n",
      " [0 0 0]], shape=(2, 3), dtype=int32)\n"
     ]
    }
   ],
   "source": [
    "x_1 =  tf.constant([[0,0],\n",
    "                    [0,2]])\n",
    "\n",
    "x_2 = tf.constant([[1,0,0],\n",
    "                    [0,0,0]])\n",
    "\n",
    "print(tf.linalg.matmul(x_1, x_2))"
   ]
  },
  {
   "cell_type": "code",
   "execution_count": 161,
   "metadata": {
    "colab": {
     "base_uri": "https://localhost:8080/"
    },
    "id": "6BopZ07xa1m_",
    "outputId": "11ce5c71-24db-41a1-a01e-a8ccb7336439"
   },
   "outputs": [
    {
     "data": {
      "text/plain": [
       "<tf.Tensor: shape=(4, 3), dtype=float16, numpy=\n",
       "array([[  1.,  -2.,   0.],\n",
       "       [  0.,   5., 100.],\n",
       "       [  0.,   0.,   6.],\n",
       "       [  0.,   0.,   0.]], dtype=float16)>"
      ]
     },
     "execution_count": 161,
     "metadata": {},
     "output_type": "execute_result"
    }
   ],
   "source": [
    "tensor_two_d = tf.constant([[1,-2,0],\n",
    "                            [3,5,100],\n",
    "                            [1,5,6],\n",
    "                            [2,3,8]], dtype = tf.float16)\n",
    "\n",
    "tensor_out_d = tf.constant([[1,0,0],\n",
    "                            [0,5,0],\n",
    "                            [0,0,6],\n",
    "                            [0,0,0]], dtype = tf.float16)\n",
    "\n",
    "#### ( m-n <= lower) and ( n-m <= upper)\n",
    "# m -- rows, n --- columns\n",
    "tf.linalg.band_part(tensor_two_d, 0, -1)"
   ]
  },
  {
   "cell_type": "code",
   "execution_count": 169,
   "metadata": {
    "id": "MRDrq7d3d0X9"
   },
   "outputs": [],
   "source": [
    "tensor_two_d_m_n = tf.constant([[0,-1,-2],\n",
    "                                [1,0,-1],\n",
    "                                [2,1,0],\n",
    "                                [3,2,1]], dtype = tf.float16)\n",
    "\n",
    "tensor_two_d_n_m = tf.constant([[0,1,2],\n",
    "                                [-1,0,1],\n",
    "                                [-2,-1,0],\n",
    "                                [-3,-2,-1]], dtype = tf.float16)\n",
    "\n",
    "m = 1\n",
    "n = 2"
   ]
  },
  {
   "cell_type": "code",
   "execution_count": 170,
   "metadata": {
    "id": "ByPOqs9455bY"
   },
   "outputs": [],
   "source": [
    "tensor_two_d = tf.constant([[1,-2,0],\n",
    "                            [3,5,100],\n",
    "                            [1,5,6]], dtype = tf.float32)\n",
    "\n",
    "tensor_two_d_inv = tf.linalg.inv(tensor_two_d)"
   ]
  },
  {
   "cell_type": "code",
   "execution_count": 171,
   "metadata": {
    "colab": {
     "base_uri": "https://localhost:8080/"
    },
    "id": "_SswsaSz55h7",
    "outputId": "175a48ba-93a0-4a19-dc52-bbef417e1424"
   },
   "outputs": [
    {
     "data": {
      "text/plain": [
       "<tf.Tensor: shape=(3, 3), dtype=float32, numpy=\n",
       "array([[ 9.9999994e-01,  2.0489097e-08, -2.9802322e-08],\n",
       "       [-7.4505806e-08,  1.0000000e+00,  0.0000000e+00],\n",
       "       [-1.1175871e-07,  7.4505806e-08,  9.9999988e-01]], dtype=float32)>"
      ]
     },
     "execution_count": 171,
     "metadata": {},
     "output_type": "execute_result"
    }
   ],
   "source": [
    "tensor_two_d@tensor_two_d_inv"
   ]
  },
  {
   "cell_type": "code",
   "execution_count": 172,
   "metadata": {
    "colab": {
     "base_uri": "https://localhost:8080/"
    },
    "id": "7peMc_m755kj",
    "outputId": "8189b24a-dc22-4fc6-a1a2-1e53709896f9"
   },
   "outputs": [
    {
     "name": "stdout",
     "output_type": "stream",
     "text": [
      "tf.Tensor([100.36633     5.105903    1.2371686], shape=(3,), dtype=float32)\n",
      "tf.Tensor(\n",
      "[[-7.4980088e-04 -3.7569833e-01  9.2674184e-01]\n",
      " [ 9.9803805e-01 -5.8300875e-02 -2.2827482e-02]\n",
      " [ 6.2606096e-02  9.2490637e-01  3.7500495e-01]], shape=(3, 3), dtype=float32)\n",
      "tf.Tensor(\n",
      "[[ 0.03044817  0.07330844  0.99684453]\n",
      " [ 0.05285359  0.9957936  -0.07484549]\n",
      " [ 0.998138   -0.05496571 -0.02644547]], shape=(3, 3), dtype=float32)\n"
     ]
    }
   ],
   "source": [
    "s,u,v = tf.linalg.svd(tensor_two_d)\n",
    "print(s)\n",
    "print(u)\n",
    "print(v)"
   ]
  },
  {
   "cell_type": "code",
   "execution_count": 173,
   "metadata": {
    "colab": {
     "base_uri": "https://localhost:8080/"
    },
    "id": "X1Rjpo9u55m_",
    "outputId": "c04b72f1-0a00-407b-b024-72cd5b1812a8"
   },
   "outputs": [
    {
     "name": "stdout",
     "output_type": "stream",
     "text": [
      "(4, 2, 3)\n",
      "(4, 2, 3, 1)\n",
      "tf.Tensor(\n",
      "[[[ 1  2  0]\n",
      "  [ 3  5 -1]]\n",
      "\n",
      " [[10  2  0]\n",
      "  [ 1  0  2]]\n",
      "\n",
      " [[ 5  8  0]\n",
      "  [ 2  7  0]]\n",
      "\n",
      " [[ 2  1  9]\n",
      "  [ 4 -3 32]]], shape=(4, 2, 3), dtype=int32)\n",
      "tf.Tensor(\n",
      "[[[ 1  2  0]\n",
      "  [ 3  5 -1]]\n",
      "\n",
      " [[10  2  0]\n",
      "  [ 1  0  2]]\n",
      "\n",
      " [[ 5  8  0]\n",
      "  [ 2  7  0]]\n",
      "\n",
      " [[ 2  1  9]\n",
      "  [ 4 -3 32]]], shape=(4, 2, 3), dtype=int32)\n"
     ]
    }
   ],
   "source": [
    "tensor_three_d = tf.constant([[[1,2,0],\n",
    "                             [3,5,-1]],\n",
    "\n",
    "                            [[10,2,0],\n",
    "                             [1,0,2]],\n",
    "\n",
    "                            [[5,8,0],\n",
    "                             [2,7,0]],\n",
    "\n",
    "                            [[2,1,9],\n",
    "                             [4,-3,32]]])\n",
    "print(tensor_three_d.shape)\n",
    "x_exp = tf.expand_dims(tensor_three_d, axis = 3)\n",
    "print(x_exp.shape)\n",
    "print(tf.squeeze(x_exp, axis = 3))\n",
    "print(tf.reshape(x_exp, [4,2,3]))"
   ]
  },
  {
   "cell_type": "code",
   "execution_count": 174,
   "metadata": {
    "colab": {
     "base_uri": "https://localhost:8080/"
    },
    "id": "rFgCP3mdMNQs",
    "outputId": "9b3d00bc-d2f2-43fb-e4c2-34d776d43488"
   },
   "outputs": [
    {
     "name": "stdout",
     "output_type": "stream",
     "text": [
      "(1, 1, 4)\n",
      "tf.Tensor([[[[2 3 4 5]]]], shape=(1, 1, 1, 4), dtype=int32)\n"
     ]
    }
   ],
   "source": [
    "x = tf.constant([[[2,3,4,5]]])\n",
    "print(x.shape)\n",
    "x_expanded = tf.expand_dims(x, axis = 0)\n",
    "print(x_expanded)"
   ]
  },
  {
   "cell_type": "code",
   "execution_count": 175,
   "metadata": {
    "colab": {
     "base_uri": "https://localhost:8080/"
    },
    "id": "1qDuhQM9MfzW",
    "outputId": "61f8d009-a794-42b4-fd36-a0964940aa78"
   },
   "outputs": [
    {
     "name": "stdout",
     "output_type": "stream",
     "text": [
      "tf.Tensor([2 3 4 5], shape=(4,), dtype=int32)\n"
     ]
    }
   ],
   "source": [
    "x_squeezed = tf.squeeze(x_expanded, axis = 0)\n",
    "for i in range(2):\n",
    "  x_squeezed = tf.squeeze(x_squeezed, axis = 0)\n",
    "\n",
    "print(x_squeezed)"
   ]
  },
  {
   "cell_type": "code",
   "execution_count": 176,
   "metadata": {
    "colab": {
     "base_uri": "https://localhost:8080/"
    },
    "id": "bULkPP3HONRz",
    "outputId": "71485486-9607-4aac-b8a4-480c56fe4654"
   },
   "outputs": [
    {
     "name": "stdout",
     "output_type": "stream",
     "text": [
      "tf.Tensor([ 3  5  6  6  4  6 -1  2], shape=(8,), dtype=int32)\n",
      "tf.Tensor([ 3  5  6  6  4  6 -1  2], shape=(8,), dtype=int32)\n"
     ]
    }
   ],
   "source": [
    "x_reshape = tf.constant([[3,5,6,6],\n",
    "                         [4,6,-1,2]])\n",
    "\n",
    "print(tf.reshape(x_reshape, [-1]))\n",
    "print(tf.reshape(x_reshape, [8]))"
   ]
  },
  {
   "cell_type": "code",
   "execution_count": 177,
   "metadata": {
    "colab": {
     "base_uri": "https://localhost:8080/"
    },
    "id": "t1t5xMTzYrrC",
    "outputId": "6d1b8dc6-bc89-4343-c4dc-03c71417dc1a"
   },
   "outputs": [
    {
     "data": {
      "text/plain": [
       "<tf.Tensor: shape=(4, 2), dtype=int32, numpy=\n",
       "array([[ 3,  4],\n",
       "       [ 5,  6],\n",
       "       [ 6, -1],\n",
       "       [ 6,  2]], dtype=int32)>"
      ]
     },
     "execution_count": 177,
     "metadata": {},
     "output_type": "execute_result"
    }
   ],
   "source": [
    "tf.transpose(x_reshape)"
   ]
  },
  {
   "cell_type": "code",
   "execution_count": 178,
   "metadata": {
    "colab": {
     "base_uri": "https://localhost:8080/"
    },
    "id": "SzQVJwk0ZJmr",
    "outputId": "985c6ee9-5c0c-4433-df39-92712cc35303"
   },
   "outputs": [
    {
     "name": "stdout",
     "output_type": "stream",
     "text": [
      "(4, 3)\n",
      "(4, 3)\n"
     ]
    },
    {
     "data": {
      "text/plain": [
       "<tf.Tensor: shape=(8, 3), dtype=int32, numpy=\n",
       "array([[ 1,  2,  3],\n",
       "       [ 4,  5,  6],\n",
       "       [ 5,  6,  2],\n",
       "       [ 1,  2,  1],\n",
       "       [ 7,  8,  9],\n",
       "       [10, 11, 12],\n",
       "       [ 0,  0,  2],\n",
       "       [-1,  5,  2]], dtype=int32)>"
      ]
     },
     "execution_count": 178,
     "metadata": {},
     "output_type": "execute_result"
    }
   ],
   "source": [
    "t1 = [[1, 2, 3],\n",
    "      [4, 5, 6],\n",
    "      [5, 6, 2],\n",
    "      [1, 2, 1]]\n",
    "\n",
    "t2 = [[7, 8, 9],\n",
    "      [10, 11, 12],\n",
    "      [0, 0, 2],\n",
    "      [-1, 5, 2]]\n",
    "\n",
    "print(tf.constant(t1).shape)\n",
    "print(tf.constant(t2).shape)\n",
    "\n",
    "tf.concat([t1, t2], axis = 0)"
   ]
  },
  {
   "cell_type": "code",
   "execution_count": 179,
   "metadata": {
    "colab": {
     "base_uri": "https://localhost:8080/"
    },
    "id": "I6eGMDgWtgry",
    "outputId": "90067513-dd38-447f-a1c5-57428114e3c6"
   },
   "outputs": [
    {
     "data": {
      "text/plain": [
       "<tf.Tensor: shape=(4, 3, 2), dtype=int32, numpy=\n",
       "array([[[ 1,  7],\n",
       "        [ 2,  8],\n",
       "        [ 3,  9]],\n",
       "\n",
       "       [[ 4, 10],\n",
       "        [ 5, 11],\n",
       "        [ 6, 12]],\n",
       "\n",
       "       [[ 5,  0],\n",
       "        [ 6,  0],\n",
       "        [ 2,  2]],\n",
       "\n",
       "       [[ 1, -1],\n",
       "        [ 2,  5],\n",
       "        [ 1,  2]]], dtype=int32)>"
      ]
     },
     "execution_count": 179,
     "metadata": {},
     "output_type": "execute_result"
    }
   ],
   "source": [
    "tf.stack([t1,t2], axis = 2)"
   ]
  },
  {
   "cell_type": "code",
   "execution_count": 180,
   "metadata": {
    "colab": {
     "base_uri": "https://localhost:8080/"
    },
    "id": "Y49Hwl9LtpbL",
    "outputId": "11db2d14-8131-4eb7-c403-25e52f471dc9"
   },
   "outputs": [
    {
     "data": {
      "text/plain": [
       "<tf.Tensor: shape=(2, 4, 3), dtype=int32, numpy=\n",
       "array([[[ 1,  2,  3],\n",
       "        [ 4,  5,  6],\n",
       "        [ 5,  6,  2],\n",
       "        [ 1,  2,  1]],\n",
       "\n",
       "       [[ 7,  8,  9],\n",
       "        [10, 11, 12],\n",
       "        [ 0,  0,  2],\n",
       "        [-1,  5,  2]]], dtype=int32)>"
      ]
     },
     "execution_count": 180,
     "metadata": {},
     "output_type": "execute_result"
    }
   ],
   "source": [
    "tf.stack([t1,t2], axis = 0)"
   ]
  },
  {
   "cell_type": "code",
   "execution_count": 183,
   "metadata": {
    "colab": {
     "base_uri": "https://localhost:8080/"
    },
    "id": "g9AyrvBlHtMh",
    "outputId": "cdf6bc98-5358-4224-8b82-b98136a9ae4f"
   },
   "outputs": [
    {
     "data": {
      "text/plain": [
       "<tf.Tensor: shape=(2, 4, 3), dtype=int32, numpy=\n",
       "array([[[ 1,  2,  3],\n",
       "        [ 4,  5,  6],\n",
       "        [ 5,  6,  2],\n",
       "        [ 1,  2,  1]],\n",
       "\n",
       "       [[ 7,  8,  9],\n",
       "        [10, 11, 12],\n",
       "        [ 0,  0,  2],\n",
       "        [-1,  5,  2]]], dtype=int32)>"
      ]
     },
     "execution_count": 183,
     "metadata": {},
     "output_type": "execute_result"
    }
   ],
   "source": [
    "tf.concat([tf.expand_dims(t, axis = 0) for t in [t1,t2]], axis = 0)\n",
    "\n",
    "# 1,4,3 - 1,4,3 --> 2,4,3"
   ]
  },
  {
   "cell_type": "code",
   "execution_count": 184,
   "metadata": {
    "id": "oKfMk0xTzpdG"
   },
   "outputs": [],
   "source": [
    "t1 = [[1, 2, 3],\n",
    "      [4, 5, 6],\n",
    "      [5, 6, 2],\n",
    "      [1, 2, 1]]\n",
    "\n",
    "t2 = [[7, 8, 9],\n",
    "      [10, 11, 12],\n",
    "      [0, 0, 2],\n",
    "      [-1, 5, 2]]\n",
    "\n",
    "#4,3 - 4,3 --> 2,4,3\n",
    "#4,3 - 4,3 --> 4,2,3\n",
    "#4,3 - 4,3 --> 4,3,2"
   ]
  },
  {
   "cell_type": "code",
   "execution_count": 185,
   "metadata": {
    "colab": {
     "base_uri": "https://localhost:8080/"
    },
    "id": "MiMHMjLh5Y21",
    "outputId": "f07b04cf-5fa6-4416-dd76-809d5be4536c"
   },
   "outputs": [
    {
     "data": {
      "text/plain": [
       "<tf.Tensor: shape=(8, 8), dtype=int32, numpy=\n",
       "array([[0, 0, 0, 0, 0, 0, 0, 0],\n",
       "       [0, 0, 1, 2, 3, 0, 0, 0],\n",
       "       [0, 0, 4, 5, 6, 0, 0, 0],\n",
       "       [0, 0, 0, 0, 0, 0, 0, 0],\n",
       "       [0, 0, 0, 0, 0, 0, 0, 0],\n",
       "       [0, 0, 0, 0, 0, 0, 0, 0],\n",
       "       [0, 0, 0, 0, 0, 0, 0, 0],\n",
       "       [0, 0, 0, 0, 0, 0, 0, 0]], dtype=int32)>"
      ]
     },
     "execution_count": 185,
     "metadata": {},
     "output_type": "execute_result"
    }
   ],
   "source": [
    "t = tf.constant([[1, 2, 3],\n",
    "                 [4, 5, 6]])\n",
    "\n",
    "paddings = tf.constant([[1, 5,],\n",
    "                        [2, 3]])\n",
    "\n",
    "tf.pad(t, paddings, \"CONSTANT\", constant_values = 0)"
   ]
  },
  {
   "cell_type": "code",
   "execution_count": 186,
   "metadata": {
    "colab": {
     "base_uri": "https://localhost:8080/"
    },
    "id": "ZHAlMK43JAkI",
    "outputId": "8cde8d30-80dd-4854-d6b4-c1986f3d9345"
   },
   "outputs": [
    {
     "name": "stdout",
     "output_type": "stream",
     "text": [
      "(6,)\n"
     ]
    },
    {
     "data": {
      "text/plain": [
       "<tf.Tensor: shape=(3,), dtype=string, numpy=array([b'p1', b'p2', b'p3'], dtype=object)>"
      ]
     },
     "execution_count": 186,
     "metadata": {},
     "output_type": "execute_result"
    }
   ],
   "source": [
    "params = tf.constant(['p0', 'p1', 'p2', 'p3', 'p4', 'p5'])\n",
    "print(params.shape)\n",
    "params[1:3+1]"
   ]
  },
  {
   "cell_type": "code",
   "execution_count": 187,
   "metadata": {
    "colab": {
     "base_uri": "https://localhost:8080/"
    },
    "id": "F8yiI_yzqDT4",
    "outputId": "83b5ae5c-90eb-49b3-e8bf-e70a9b4249e9"
   },
   "outputs": [
    {
     "data": {
      "text/plain": [
       "<tf.Tensor: shape=(3,), dtype=string, numpy=array([b'p0', b'p5', b'p3'], dtype=object)>"
      ]
     },
     "execution_count": 187,
     "metadata": {},
     "output_type": "execute_result"
    }
   ],
   "source": [
    "tf.gather(params, [0,5,3], axis = 0)"
   ]
  },
  {
   "cell_type": "code",
   "execution_count": 188,
   "metadata": {
    "colab": {
     "base_uri": "https://localhost:8080/"
    },
    "id": "YIAffDtDqd5w",
    "outputId": "85c4df37-627f-4e42-9f6c-8931df308d17"
   },
   "outputs": [
    {
     "name": "stdout",
     "output_type": "stream",
     "text": [
      "(2, 4, 3)\n"
     ]
    },
    {
     "data": {
      "text/plain": [
       "<tf.Tensor: shape=(2, 2, 3), dtype=float32, numpy=\n",
       "array([[[20., 21., 22.],\n",
       "        [ 0.,  1.,  2.]],\n",
       "\n",
       "       [[ 0.,  5., 55.],\n",
       "        [ 3.,  1., 21.]]], dtype=float32)>"
      ]
     },
     "execution_count": 188,
     "metadata": {},
     "output_type": "execute_result"
    }
   ],
   "source": [
    "params = tf.constant([\n",
    "\n",
    "                      [[0, 1.0, 2.0],\n",
    "                       [10.0, 11.0, 12.0],\n",
    "                       [20.0, 21.0, 22.0],\n",
    "                       [30.0, 31.0, 32.0]],\n",
    "\n",
    "                      [[3, 1.0,21],\n",
    "                       [1, 3, 88],\n",
    "                       [0, 5, 55],\n",
    "                       [0, 2, 30]]\n",
    "\n",
    "                      ])\n",
    "print(params.shape)\n",
    "tf.gather(params, [2, 0], axis = 1)"
   ]
  },
  {
   "cell_type": "code",
   "execution_count": 189,
   "metadata": {
    "colab": {
     "base_uri": "https://localhost:8080/"
    },
    "id": "g9wlEPIp1CLv",
    "outputId": "1fe15aea-300d-4cdf-b2ea-c22314851d99"
   },
   "outputs": [
    {
     "name": "stdout",
     "output_type": "stream",
     "text": [
      "(4, 3)\n"
     ]
    },
    {
     "data": {
      "text/plain": [
       "<tf.Tensor: shape=(2, 3), dtype=float32, numpy=\n",
       "array([[ 0.,  5., 55.],\n",
       "       [ 3.,  1., 21.]], dtype=float32)>"
      ]
     },
     "execution_count": 189,
     "metadata": {},
     "output_type": "execute_result"
    }
   ],
   "source": [
    "params = tf.constant([[3, 1.0,21],\n",
    "                       [1, 3, 88],\n",
    "                       [0, 5, 55],\n",
    "                       [0, 2, 30]])\n",
    "\n",
    "print(params.shape)\n",
    "tf.gather(params, [2, 0], axis = 0)"
   ]
  },
  {
   "cell_type": "code",
   "execution_count": null,
   "metadata": {
    "id": "fKSVf33e1CUp"
   },
   "outputs": [],
   "source": []
  },
  {
   "cell_type": "code",
   "execution_count": 190,
   "metadata": {
    "colab": {
     "base_uri": "https://localhost:8080/"
    },
    "id": "VKAq9TwhwaxP",
    "outputId": "81dc3852-7d98-40f5-f08d-cceb216ffd5d"
   },
   "outputs": [
    {
     "data": {
      "text/plain": [
       "<tf.Tensor: shape=(), dtype=string, numpy=b'f'>"
      ]
     },
     "execution_count": 190,
     "metadata": {},
     "output_type": "execute_result"
    }
   ],
   "source": [
    "indices = [2,1]\n",
    "\n",
    "params = [['a', 'b'],\n",
    "          ['c', 'd'],\n",
    "          ['e', 'f']]\n",
    "\n",
    "tf.gather_nd(params, indices)"
   ]
  },
  {
   "cell_type": "code",
   "execution_count": 191,
   "metadata": {
    "colab": {
     "base_uri": "https://localhost:8080/"
    },
    "id": "xvcGnQFF01Ki",
    "outputId": "cb3d1d47-fb45-4df0-fa89-e0ed24b45361"
   },
   "outputs": [
    {
     "data": {
      "text/plain": [
       "<tf.Tensor: shape=(2,), dtype=string, numpy=array([b'c0', b'b1'], dtype=object)>"
      ]
     },
     "execution_count": 191,
     "metadata": {},
     "output_type": "execute_result"
    }
   ],
   "source": [
    "indices = [[0, 1, 0], [1, 0, 1]]\n",
    "\n",
    "params = [[['a0', 'b0'],\n",
    "           ['c0', 'd0']],\n",
    "\n",
    "          [['a1', 'b1'],\n",
    "           ['c1', 'd1']]]\n",
    "\n",
    "tf.gather_nd(params, indices)"
   ]
  },
  {
   "cell_type": "code",
   "execution_count": 192,
   "metadata": {
    "colab": {
     "base_uri": "https://localhost:8080/"
    },
    "id": "XgGC1O5N01Lz",
    "outputId": "3a9fedf2-1be6-41c3-d43c-713d3ffa8537"
   },
   "outputs": [
    {
     "data": {
      "text/plain": [
       "<tf.Tensor: shape=(2, 2, 2), dtype=string, numpy=\n",
       "array([[[b'c0', b'd0'],\n",
       "        [b'a1', b'b1']],\n",
       "\n",
       "       [[b'a0', b'b0'],\n",
       "        [b'c1', b'd1']]], dtype=object)>"
      ]
     },
     "execution_count": 192,
     "metadata": {},
     "output_type": "execute_result"
    }
   ],
   "source": [
    "indices = [[[0, 1],\n",
    "            [1, 0]],\n",
    "\n",
    "            [[0, 0],\n",
    "             [1, 1]]]\n",
    "\n",
    "params = [[['a0', 'b0'],\n",
    "           ['c0', 'd0']],\n",
    "\n",
    "          [['a1', 'b1'],\n",
    "           ['c1', 'd1']]]\n",
    "\n",
    "tf.gather_nd(params, indices)"
   ]
  },
  {
   "cell_type": "code",
   "execution_count": 193,
   "metadata": {
    "colab": {
     "base_uri": "https://localhost:8080/"
    },
    "id": "jBFmBZ3w01Pf",
    "outputId": "59a14439-5a5f-4c47-bbc4-b4777dd2f5cf"
   },
   "outputs": [
    {
     "data": {
      "text/plain": [
       "<tf.Tensor: shape=(2, 2), dtype=string, numpy=\n",
       "array([[b'b0', b'c0'],\n",
       "       [b'a1', b'd1']], dtype=object)>"
      ]
     },
     "execution_count": 193,
     "metadata": {},
     "output_type": "execute_result"
    }
   ],
   "source": [
    "indices = [[[0, 1],\n",
    "            [1, 0]],\n",
    "\n",
    "            [[0, 0],\n",
    "             [1, 1]]]\n",
    "\n",
    "params = [[['a0', 'b0'],\n",
    "           ['c0', 'd0']],\n",
    "\n",
    "          [['a1', 'b1'],\n",
    "           ['c1', 'd1']]]\n",
    "\n",
    "\n",
    "tf.gather_nd(params, indices, batch_dims = 1)"
   ]
  },
  {
   "cell_type": "code",
   "execution_count": 194,
   "metadata": {
    "colab": {
     "base_uri": "https://localhost:8080/"
    },
    "id": "S7n0CSco0ykG",
    "outputId": "7fc92c53-fb80-496b-e2e9-de475519b91a"
   },
   "outputs": [
    {
     "data": {
      "text/plain": [
       "<tf.Tensor: shape=(2,), dtype=string, numpy=array([b'b0', b'c1'], dtype=object)>"
      ]
     },
     "execution_count": 194,
     "metadata": {},
     "output_type": "execute_result"
    }
   ],
   "source": [
    "indices = [[0,1],\n",
    "           [1,0]]\n",
    "\n",
    "params = [[['a0', 'b0'],\n",
    "           ['c0', 'd0']],\n",
    "\n",
    "          [['a1', 'b1'],\n",
    "           ['c1', 'd1']]]\n",
    "\n",
    "\n",
    "tf.gather_nd(params, indices, batch_dims = 1)"
   ]
  },
  {
   "cell_type": "code",
   "execution_count": 195,
   "metadata": {
    "colab": {
     "base_uri": "https://localhost:8080/"
    },
    "id": "tutRTwsi9ElS",
    "outputId": "f098c3d4-5bb8-4ddb-accd-1183c1481353"
   },
   "outputs": [
    {
     "name": "stdout",
     "output_type": "stream",
     "text": [
      "tf.Tensor(\n",
      "[[ 1  2  0]\n",
      " [ 3  5 -1]\n",
      " [ 1  5  6]\n",
      " [ 2  3  8]], shape=(4, 3), dtype=int32)\n"
     ]
    }
   ],
   "source": [
    "tensor_two_d = tf.constant([[1,2,0],\n",
    "                            [3,5,-1],\n",
    "                            [1,5,6],\n",
    "                            [2,3,8]])\n",
    "print(tensor_two_d)"
   ]
  },
  {
   "cell_type": "code",
   "execution_count": 196,
   "metadata": {
    "colab": {
     "base_uri": "https://localhost:8080/"
    },
    "id": "nnTA9vIhIIXj",
    "outputId": "8f00ab83-5480-49ae-8923-33e7dbdc8875"
   },
   "outputs": [
    {
     "name": "stdout",
     "output_type": "stream",
     "text": [
      "<tf.RaggedTensor [[1, 2, 0], [3], [1, 5, 6, 5, 6], [2, 3]]>\n"
     ]
    }
   ],
   "source": [
    "tensor_two_d =[[1,2,0],\n",
    "               [3,],\n",
    "               [1,5,6,5,6],\n",
    "               [2,3]]\n",
    "tensor_ragged = tf.ragged.constant(tensor_two_d)\n",
    "print(tensor_ragged)"
   ]
  },
  {
   "cell_type": "code",
   "execution_count": 197,
   "metadata": {
    "colab": {
     "base_uri": "https://localhost:8080/"
    },
    "id": "iYgA5jT3Izwx",
    "outputId": "e212be7a-e9e1-472e-ed14-5ce0e347570a"
   },
   "outputs": [
    {
     "name": "stdout",
     "output_type": "stream",
     "text": [
      "<tf.RaggedTensor [[3, 1, 4, 1], [], [5, 9, 2], [6], []]>\n"
     ]
    }
   ],
   "source": [
    "print(tf.RaggedTensor.from_row_lengths(\n",
    "    values=[3, 1, 4, 1, 5, 9, 2, 6],\n",
    "    row_lengths=[4, 0, 3, 1,0]))"
   ]
  },
  {
   "cell_type": "markdown",
   "metadata": {},
   "source": [
    "# Sparse Tensor"
   ]
  },
  {
   "cell_type": "code",
   "execution_count": 198,
   "metadata": {
    "id": "wwfmFw9o_CDi"
   },
   "outputs": [],
   "source": [
    "tensor_sparse = tf.sparse.SparseTensor(\n",
    "    indices = [[1,1],[3,4]], values = [11,56], dense_shape = [5,6]\n",
    ")"
   ]
  },
  {
   "cell_type": "code",
   "execution_count": 199,
   "metadata": {
    "colab": {
     "base_uri": "https://localhost:8080/"
    },
    "id": "Fa3RKybXJax8",
    "outputId": "bc7c9134-161c-426f-d6fe-88ab58b2191a"
   },
   "outputs": [
    {
     "name": "stdout",
     "output_type": "stream",
     "text": [
      "SparseTensor(indices=tf.Tensor(\n",
      "[[1 1]\n",
      " [3 4]], shape=(2, 2), dtype=int64), values=tf.Tensor([11 56], shape=(2,), dtype=int32), dense_shape=tf.Tensor([5 6], shape=(2,), dtype=int64))\n"
     ]
    }
   ],
   "source": [
    "print(tensor_sparse)"
   ]
  },
  {
   "cell_type": "code",
   "execution_count": 200,
   "metadata": {
    "colab": {
     "base_uri": "https://localhost:8080/"
    },
    "id": "UyZT52wjKXzn",
    "outputId": "da7cd2a8-b6d3-4ed0-c37a-5962e5ef7aa4"
   },
   "outputs": [
    {
     "data": {
      "text/plain": [
       "<tf.Tensor: shape=(5, 6), dtype=int32, numpy=\n",
       "array([[ 0,  0,  0,  0,  0,  0],\n",
       "       [ 0, 11,  0,  0,  0,  0],\n",
       "       [ 0,  0,  0,  0,  0,  0],\n",
       "       [ 0,  0,  0,  0, 56,  0],\n",
       "       [ 0,  0,  0,  0,  0,  0]], dtype=int32)>"
      ]
     },
     "execution_count": 200,
     "metadata": {},
     "output_type": "execute_result"
    }
   ],
   "source": [
    "tf.sparse.to_dense(tensor_sparse)"
   ]
  },
  {
   "cell_type": "markdown",
   "metadata": {},
   "source": [
    "# String Tensor"
   ]
  },
  {
   "cell_type": "code",
   "execution_count": 4,
   "metadata": {
    "colab": {
     "base_uri": "https://localhost:8080/"
    },
    "id": "is0w7-j1KjpO",
    "outputId": "a3b6357d-445a-4333-feaf-5741156dd96f"
   },
   "outputs": [
    {
     "name": "stdout",
     "output_type": "stream",
     "text": [
      "tf.Tensor([b'hello' b'i am ' b'a string'], shape=(3,), dtype=string)\n"
     ]
    }
   ],
   "source": [
    "tensor_string = tf.constant([\"hello\", \"i am \", \"a string\"])\n",
    "print(tensor_string)"
   ]
  },
  {
   "cell_type": "code",
   "execution_count": 5,
   "metadata": {
    "colab": {
     "base_uri": "https://localhost:8080/"
    },
    "id": "Rm5sG9NAM2y1",
    "outputId": "b1d212a4-214b-414c-ae8d-a5ceb6735988"
   },
   "outputs": [
    {
     "data": {
      "text/plain": [
       "<tf.Tensor: shape=(), dtype=string, numpy=b'hello+i am +a string'>"
      ]
     },
     "execution_count": 5,
     "metadata": {},
     "output_type": "execute_result"
    }
   ],
   "source": [
    "tf.strings.join(tensor_string, separator=\"+\")"
   ]
  },
  {
   "cell_type": "markdown",
   "metadata": {},
   "source": [
    "# Tensorflow Variable"
   ]
  },
  {
   "cell_type": "code",
   "execution_count": null,
   "metadata": {},
   "outputs": [],
   "source": [
    "x = tf.constant([1,2])"
   ]
  },
  {
   "cell_type": "code",
   "execution_count": 204,
   "metadata": {
    "colab": {
     "base_uri": "https://localhost:8080/"
    },
    "id": "Uc0h-FtEQuI7",
    "outputId": "13e10fcb-bf0c-41d8-acde-3b754e3257fb"
   },
   "outputs": [
    {
     "name": "stdout",
     "output_type": "stream",
     "text": [
      "<tf.Variable 'var1:0' shape=(2,) dtype=int32, numpy=array([1, 2], dtype=int32)>\n"
     ]
    }
   ],
   "source": [
    "x_var = tf.Variable(x, name = 'var1')\n",
    "print(x_var)"
   ]
  },
  {
   "cell_type": "code",
   "execution_count": 205,
   "metadata": {
    "colab": {
     "base_uri": "https://localhost:8080/"
    },
    "id": "px97CMCBQvQU",
    "outputId": "68a92357-8e34-4916-f8a1-478d4fe39370"
   },
   "outputs": [
    {
     "data": {
      "text/plain": [
       "<tf.Variable 'UnreadVariable' shape=(2,) dtype=int32, numpy=array([ 6, 10], dtype=int32)>"
      ]
     },
     "execution_count": 205,
     "metadata": {},
     "output_type": "execute_result"
    }
   ],
   "source": [
    "x_var.assign_add([5,8])"
   ]
  }
 ],
 "metadata": {
  "colab": {
   "provenance": []
  },
  "kernelspec": {
   "display_name": "tensorflow",
   "language": "python",
   "name": "python3"
  },
  "language_info": {
   "codemirror_mode": {
    "name": "ipython",
    "version": 3
   },
   "file_extension": ".py",
   "mimetype": "text/x-python",
   "name": "python",
   "nbconvert_exporter": "python",
   "pygments_lexer": "ipython3",
   "version": "3.10.16"
  }
 },
 "nbformat": 4,
 "nbformat_minor": 0
}
